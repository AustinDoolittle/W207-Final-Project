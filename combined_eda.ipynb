{
 "cells": [
  {
   "cell_type": "markdown",
   "metadata": {},
   "source": [
    "# Final Project Combined Preliminary EDA"
   ]
  },
  {
   "cell_type": "code",
   "execution_count": null,
   "metadata": {},
   "outputs": [],
   "source": [
    "# only need to install yellowbrick if never installed before\n",
    "!pip install yellowbrick"
   ]
  },
  {
   "cell_type": "markdown",
   "metadata": {},
   "source": [
    "## Install Reverse Geocoder\n",
    "This helps us get county and city data against longtitude and latitude zillow data. Source: https://github.com/thampiman/reverse-geocoder"
   ]
  },
  {
   "cell_type": "code",
   "execution_count": 4,
   "metadata": {
    "code_folding": []
   },
   "outputs": [],
   "source": [
    "# only need to install reverse_geocoder if never installed before\n",
    "!pip install reverse_geocoder"
   ]
  },
  {
   "cell_type": "code",
   "execution_count": 51,
   "metadata": {},
   "outputs": [],
   "source": [
    "# import libraries\n",
    "import numpy as np\n",
    "from numpy import errstate,isneginf\n",
    "from scipy import stats\n",
    "import pandas as pd\n",
    "from time import time\n",
    "from datetime import datetime\n",
    "from sklearn.metrics import f1_score\n",
    "from sklearn.utils import shuffle\n",
    "from sklearn.manifold import TSNE\n",
    "from sklearn.decomposition import PCA\n",
    "import re as re\n",
    "import matplotlib.ticker as mtick\n",
    "import matplotlib.pyplot as plt\n",
    "from scipy import stats\n",
    "import seaborn as sns\n",
    "# import gauntlet\n",
    "import reverse_geocoder as rg\n",
    "sns.set(style = 'white')\n",
    "\n",
    "%matplotlib inline"
   ]
  },
  {
   "cell_type": "markdown",
   "metadata": {},
   "source": [
    "## Read in Data"
   ]
  },
  {
   "cell_type": "code",
   "execution_count": 4,
   "metadata": {},
   "outputs": [
    {
     "name": "stderr",
     "output_type": "stream",
     "text": [
      "C:\\Users\\ehuang\\Anaconda3\\lib\\site-packages\\IPython\\core\\interactiveshell.py:3020: DtypeWarning: Columns (22,32,34,49,55) have mixed types. Specify dtype option on import or set low_memory=False.\n",
      "  interactivity=interactivity, compiler=compiler, result=result)\n"
     ]
    }
   ],
   "source": [
    "# load the data \n",
    "train_2016 = pd.read_csv(\"train_2016_v2.csv\")\n",
    "properties_2016 = pd.read_csv(\"properties_2016.csv\")\n",
    "\n",
    "# Ray reading in data from a different file location - comment this out if you need to change it please\n",
    "#train_2016 = pd.read_csv(\"~/GitHub/berkeley/W207/zillow_final_project/zillow-prize-1/train_2016_v2.csv\")\n",
    "#properties_2016 = pd.read_csv(\"~/GitHub/berkeley/W207/zillow_final_project/zillow-prize-1/properties_2016.csv\")"
   ]
  },
  {
   "cell_type": "markdown",
   "metadata": {},
   "source": [
    "# Exploratory Data Analysis"
   ]
  },
  {
   "cell_type": "code",
   "execution_count": 5,
   "metadata": {
    "code_folding": []
   },
   "outputs": [
    {
     "data": {
      "text/html": [
       "<div>\n",
       "<style scoped>\n",
       "    .dataframe tbody tr th:only-of-type {\n",
       "        vertical-align: middle;\n",
       "    }\n",
       "\n",
       "    .dataframe tbody tr th {\n",
       "        vertical-align: top;\n",
       "    }\n",
       "\n",
       "    .dataframe thead th {\n",
       "        text-align: right;\n",
       "    }\n",
       "</style>\n",
       "<table border=\"1\" class=\"dataframe\">\n",
       "  <thead>\n",
       "    <tr style=\"text-align: right;\">\n",
       "      <th></th>\n",
       "      <th>count</th>\n",
       "      <th>unique</th>\n",
       "      <th>top</th>\n",
       "      <th>freq</th>\n",
       "      <th>mean</th>\n",
       "      <th>std</th>\n",
       "      <th>min</th>\n",
       "      <th>25%</th>\n",
       "      <th>50%</th>\n",
       "      <th>75%</th>\n",
       "      <th>max</th>\n",
       "    </tr>\n",
       "  </thead>\n",
       "  <tbody>\n",
       "    <tr>\n",
       "      <th>storytypeid</th>\n",
       "      <td>1624</td>\n",
       "      <td>NaN</td>\n",
       "      <td>NaN</td>\n",
       "      <td>NaN</td>\n",
       "      <td>7</td>\n",
       "      <td>0</td>\n",
       "      <td>7</td>\n",
       "      <td>7</td>\n",
       "      <td>7</td>\n",
       "      <td>7</td>\n",
       "      <td>7</td>\n",
       "    </tr>\n",
       "    <tr>\n",
       "      <th>basementsqft</th>\n",
       "      <td>1628</td>\n",
       "      <td>NaN</td>\n",
       "      <td>NaN</td>\n",
       "      <td>NaN</td>\n",
       "      <td>646.883</td>\n",
       "      <td>538.793</td>\n",
       "      <td>20</td>\n",
       "      <td>272</td>\n",
       "      <td>534</td>\n",
       "      <td>847.25</td>\n",
       "      <td>8516</td>\n",
       "    </tr>\n",
       "    <tr>\n",
       "      <th>yardbuildingsqft26</th>\n",
       "      <td>2647</td>\n",
       "      <td>NaN</td>\n",
       "      <td>NaN</td>\n",
       "      <td>NaN</td>\n",
       "      <td>278.297</td>\n",
       "      <td>369.732</td>\n",
       "      <td>10</td>\n",
       "      <td>96</td>\n",
       "      <td>168</td>\n",
       "      <td>320</td>\n",
       "      <td>6141</td>\n",
       "    </tr>\n",
       "    <tr>\n",
       "      <th>fireplaceflag</th>\n",
       "      <td>5163</td>\n",
       "      <td>1</td>\n",
       "      <td>True</td>\n",
       "      <td>5163</td>\n",
       "      <td>NaN</td>\n",
       "      <td>NaN</td>\n",
       "      <td>NaN</td>\n",
       "      <td>NaN</td>\n",
       "      <td>NaN</td>\n",
       "      <td>NaN</td>\n",
       "      <td>NaN</td>\n",
       "    </tr>\n",
       "    <tr>\n",
       "      <th>architecturalstyletypeid</th>\n",
       "      <td>6061</td>\n",
       "      <td>NaN</td>\n",
       "      <td>NaN</td>\n",
       "      <td>NaN</td>\n",
       "      <td>7.20261</td>\n",
       "      <td>2.43629</td>\n",
       "      <td>2</td>\n",
       "      <td>7</td>\n",
       "      <td>7</td>\n",
       "      <td>7</td>\n",
       "      <td>27</td>\n",
       "    </tr>\n",
       "    <tr>\n",
       "      <th>typeconstructiontypeid</th>\n",
       "      <td>6747</td>\n",
       "      <td>NaN</td>\n",
       "      <td>NaN</td>\n",
       "      <td>NaN</td>\n",
       "      <td>5.99956</td>\n",
       "      <td>0.38405</td>\n",
       "      <td>4</td>\n",
       "      <td>6</td>\n",
       "      <td>6</td>\n",
       "      <td>6</td>\n",
       "      <td>13</td>\n",
       "    </tr>\n",
       "    <tr>\n",
       "      <th>finishedsquarefeet13</th>\n",
       "      <td>7672</td>\n",
       "      <td>NaN</td>\n",
       "      <td>NaN</td>\n",
       "      <td>NaN</td>\n",
       "      <td>1178.9</td>\n",
       "      <td>357.073</td>\n",
       "      <td>120</td>\n",
       "      <td>960</td>\n",
       "      <td>1296</td>\n",
       "      <td>1440</td>\n",
       "      <td>2688</td>\n",
       "    </tr>\n",
       "    <tr>\n",
       "      <th>buildingclasstypeid</th>\n",
       "      <td>12629</td>\n",
       "      <td>NaN</td>\n",
       "      <td>NaN</td>\n",
       "      <td>NaN</td>\n",
       "      <td>3.72595</td>\n",
       "      <td>0.5017</td>\n",
       "      <td>1</td>\n",
       "      <td>3</td>\n",
       "      <td>4</td>\n",
       "      <td>4</td>\n",
       "      <td>5</td>\n",
       "    </tr>\n",
       "    <tr>\n",
       "      <th>decktypeid</th>\n",
       "      <td>17096</td>\n",
       "      <td>NaN</td>\n",
       "      <td>NaN</td>\n",
       "      <td>NaN</td>\n",
       "      <td>66</td>\n",
       "      <td>0</td>\n",
       "      <td>66</td>\n",
       "      <td>66</td>\n",
       "      <td>66</td>\n",
       "      <td>66</td>\n",
       "      <td>66</td>\n",
       "    </tr>\n",
       "    <tr>\n",
       "      <th>finishedsquarefeet6</th>\n",
       "      <td>22001</td>\n",
       "      <td>NaN</td>\n",
       "      <td>NaN</td>\n",
       "      <td>NaN</td>\n",
       "      <td>2414.34</td>\n",
       "      <td>7695.3</td>\n",
       "      <td>117</td>\n",
       "      <td>1079</td>\n",
       "      <td>1992</td>\n",
       "      <td>3366</td>\n",
       "      <td>952576</td>\n",
       "    </tr>\n",
       "    <tr>\n",
       "      <th>poolsizesum</th>\n",
       "      <td>27960</td>\n",
       "      <td>NaN</td>\n",
       "      <td>NaN</td>\n",
       "      <td>NaN</td>\n",
       "      <td>519.711</td>\n",
       "      <td>191.323</td>\n",
       "      <td>19</td>\n",
       "      <td>430</td>\n",
       "      <td>495</td>\n",
       "      <td>594</td>\n",
       "      <td>17410</td>\n",
       "    </tr>\n",
       "    <tr>\n",
       "      <th>pooltypeid2</th>\n",
       "      <td>32075</td>\n",
       "      <td>NaN</td>\n",
       "      <td>NaN</td>\n",
       "      <td>NaN</td>\n",
       "      <td>1</td>\n",
       "      <td>0</td>\n",
       "      <td>1</td>\n",
       "      <td>1</td>\n",
       "      <td>1</td>\n",
       "      <td>1</td>\n",
       "      <td>1</td>\n",
       "    </tr>\n",
       "    <tr>\n",
       "      <th>pooltypeid10</th>\n",
       "      <td>36939</td>\n",
       "      <td>NaN</td>\n",
       "      <td>NaN</td>\n",
       "      <td>NaN</td>\n",
       "      <td>1</td>\n",
       "      <td>0</td>\n",
       "      <td>1</td>\n",
       "      <td>1</td>\n",
       "      <td>1</td>\n",
       "      <td>1</td>\n",
       "      <td>1</td>\n",
       "    </tr>\n",
       "    <tr>\n",
       "      <th>taxdelinquencyflag</th>\n",
       "      <td>56462</td>\n",
       "      <td>1</td>\n",
       "      <td>Y</td>\n",
       "      <td>56462</td>\n",
       "      <td>NaN</td>\n",
       "      <td>NaN</td>\n",
       "      <td>NaN</td>\n",
       "      <td>NaN</td>\n",
       "      <td>NaN</td>\n",
       "      <td>NaN</td>\n",
       "      <td>NaN</td>\n",
       "    </tr>\n",
       "    <tr>\n",
       "      <th>taxdelinquencyyear</th>\n",
       "      <td>56464</td>\n",
       "      <td>NaN</td>\n",
       "      <td>NaN</td>\n",
       "      <td>NaN</td>\n",
       "      <td>13.8924</td>\n",
       "      <td>2.58101</td>\n",
       "      <td>0</td>\n",
       "      <td>14</td>\n",
       "      <td>14</td>\n",
       "      <td>15</td>\n",
       "      <td>99</td>\n",
       "    </tr>\n",
       "    <tr>\n",
       "      <th>hashottuborspa</th>\n",
       "      <td>69014</td>\n",
       "      <td>1</td>\n",
       "      <td>True</td>\n",
       "      <td>69014</td>\n",
       "      <td>NaN</td>\n",
       "      <td>NaN</td>\n",
       "      <td>NaN</td>\n",
       "      <td>NaN</td>\n",
       "      <td>NaN</td>\n",
       "      <td>NaN</td>\n",
       "      <td>NaN</td>\n",
       "    </tr>\n",
       "    <tr>\n",
       "      <th>yardbuildingsqft17</th>\n",
       "      <td>80355</td>\n",
       "      <td>NaN</td>\n",
       "      <td>NaN</td>\n",
       "      <td>NaN</td>\n",
       "      <td>319.803</td>\n",
       "      <td>233.086</td>\n",
       "      <td>10</td>\n",
       "      <td>190</td>\n",
       "      <td>270</td>\n",
       "      <td>390</td>\n",
       "      <td>7983</td>\n",
       "    </tr>\n",
       "    <tr>\n",
       "      <th>finishedsquarefeet15</th>\n",
       "      <td>190798</td>\n",
       "      <td>NaN</td>\n",
       "      <td>NaN</td>\n",
       "      <td>NaN</td>\n",
       "      <td>2739.19</td>\n",
       "      <td>5447.43</td>\n",
       "      <td>112</td>\n",
       "      <td>1694</td>\n",
       "      <td>2172</td>\n",
       "      <td>2976</td>\n",
       "      <td>820242</td>\n",
       "    </tr>\n",
       "    <tr>\n",
       "      <th>finishedsquarefeet50</th>\n",
       "      <td>202717</td>\n",
       "      <td>NaN</td>\n",
       "      <td>NaN</td>\n",
       "      <td>NaN</td>\n",
       "      <td>1388.94</td>\n",
       "      <td>664.489</td>\n",
       "      <td>3</td>\n",
       "      <td>1013</td>\n",
       "      <td>1284</td>\n",
       "      <td>1618</td>\n",
       "      <td>31303</td>\n",
       "    </tr>\n",
       "    <tr>\n",
       "      <th>finishedfloor1squarefeet</th>\n",
       "      <td>202717</td>\n",
       "      <td>NaN</td>\n",
       "      <td>NaN</td>\n",
       "      <td>NaN</td>\n",
       "      <td>1380.63</td>\n",
       "      <td>632.869</td>\n",
       "      <td>3</td>\n",
       "      <td>1012</td>\n",
       "      <td>1283</td>\n",
       "      <td>1615</td>\n",
       "      <td>31303</td>\n",
       "    </tr>\n",
       "    <tr>\n",
       "      <th>threequarterbathnbr</th>\n",
       "      <td>311631</td>\n",
       "      <td>NaN</td>\n",
       "      <td>NaN</td>\n",
       "      <td>NaN</td>\n",
       "      <td>1.01001</td>\n",
       "      <td>0.117709</td>\n",
       "      <td>1</td>\n",
       "      <td>1</td>\n",
       "      <td>1</td>\n",
       "      <td>1</td>\n",
       "      <td>7</td>\n",
       "    </tr>\n",
       "    <tr>\n",
       "      <th>fireplacecnt</th>\n",
       "      <td>312637</td>\n",
       "      <td>NaN</td>\n",
       "      <td>NaN</td>\n",
       "      <td>NaN</td>\n",
       "      <td>1.16871</td>\n",
       "      <td>0.461273</td>\n",
       "      <td>1</td>\n",
       "      <td>1</td>\n",
       "      <td>1</td>\n",
       "      <td>1</td>\n",
       "      <td>9</td>\n",
       "    </tr>\n",
       "    <tr>\n",
       "      <th>pooltypeid7</th>\n",
       "      <td>485459</td>\n",
       "      <td>NaN</td>\n",
       "      <td>NaN</td>\n",
       "      <td>NaN</td>\n",
       "      <td>1</td>\n",
       "      <td>0</td>\n",
       "      <td>1</td>\n",
       "      <td>1</td>\n",
       "      <td>1</td>\n",
       "      <td>1</td>\n",
       "      <td>1</td>\n",
       "    </tr>\n",
       "    <tr>\n",
       "      <th>poolcnt</th>\n",
       "      <td>517534</td>\n",
       "      <td>NaN</td>\n",
       "      <td>NaN</td>\n",
       "      <td>NaN</td>\n",
       "      <td>1</td>\n",
       "      <td>0</td>\n",
       "      <td>1</td>\n",
       "      <td>1</td>\n",
       "      <td>1</td>\n",
       "      <td>1</td>\n",
       "      <td>1</td>\n",
       "    </tr>\n",
       "    <tr>\n",
       "      <th>numberofstories</th>\n",
       "      <td>682069</td>\n",
       "      <td>NaN</td>\n",
       "      <td>NaN</td>\n",
       "      <td>NaN</td>\n",
       "      <td>1.40146</td>\n",
       "      <td>0.539076</td>\n",
       "      <td>1</td>\n",
       "      <td>1</td>\n",
       "      <td>1</td>\n",
       "      <td>2</td>\n",
       "      <td>41</td>\n",
       "    </tr>\n",
       "    <tr>\n",
       "      <th>airconditioningtypeid</th>\n",
       "      <td>811519</td>\n",
       "      <td>NaN</td>\n",
       "      <td>NaN</td>\n",
       "      <td>NaN</td>\n",
       "      <td>1.93117</td>\n",
       "      <td>3.14859</td>\n",
       "      <td>1</td>\n",
       "      <td>1</td>\n",
       "      <td>1</td>\n",
       "      <td>1</td>\n",
       "      <td>13</td>\n",
       "    </tr>\n",
       "    <tr>\n",
       "      <th>garagecarcnt</th>\n",
       "      <td>883267</td>\n",
       "      <td>NaN</td>\n",
       "      <td>NaN</td>\n",
       "      <td>NaN</td>\n",
       "      <td>1.82352</td>\n",
       "      <td>0.610035</td>\n",
       "      <td>0</td>\n",
       "      <td>2</td>\n",
       "      <td>2</td>\n",
       "      <td>2</td>\n",
       "      <td>25</td>\n",
       "    </tr>\n",
       "    <tr>\n",
       "      <th>garagetotalsqft</th>\n",
       "      <td>883267</td>\n",
       "      <td>NaN</td>\n",
       "      <td>NaN</td>\n",
       "      <td>NaN</td>\n",
       "      <td>383.769</td>\n",
       "      <td>245.443</td>\n",
       "      <td>0</td>\n",
       "      <td>324</td>\n",
       "      <td>441</td>\n",
       "      <td>494</td>\n",
       "      <td>7749</td>\n",
       "    </tr>\n",
       "    <tr>\n",
       "      <th>regionidneighborhood</th>\n",
       "      <td>1.1564e+06</td>\n",
       "      <td>NaN</td>\n",
       "      <td>NaN</td>\n",
       "      <td>NaN</td>\n",
       "      <td>193476</td>\n",
       "      <td>165713</td>\n",
       "      <td>6952</td>\n",
       "      <td>46736</td>\n",
       "      <td>118920</td>\n",
       "      <td>274800</td>\n",
       "      <td>764167</td>\n",
       "    </tr>\n",
       "    <tr>\n",
       "      <th>heatingorsystemtypeid</th>\n",
       "      <td>1.8064e+06</td>\n",
       "      <td>NaN</td>\n",
       "      <td>NaN</td>\n",
       "      <td>NaN</td>\n",
       "      <td>4.01205</td>\n",
       "      <td>3.29373</td>\n",
       "      <td>1</td>\n",
       "      <td>2</td>\n",
       "      <td>2</td>\n",
       "      <td>7</td>\n",
       "      <td>24</td>\n",
       "    </tr>\n",
       "    <tr>\n",
       "      <th>buildingqualitytypeid</th>\n",
       "      <td>1.93849e+06</td>\n",
       "      <td>NaN</td>\n",
       "      <td>NaN</td>\n",
       "      <td>NaN</td>\n",
       "      <td>5.78479</td>\n",
       "      <td>1.80535</td>\n",
       "      <td>1</td>\n",
       "      <td>4</td>\n",
       "      <td>7</td>\n",
       "      <td>7</td>\n",
       "      <td>12</td>\n",
       "    </tr>\n",
       "    <tr>\n",
       "      <th>unitcnt</th>\n",
       "      <td>1.97749e+06</td>\n",
       "      <td>NaN</td>\n",
       "      <td>NaN</td>\n",
       "      <td>NaN</td>\n",
       "      <td>1.18117</td>\n",
       "      <td>2.4479</td>\n",
       "      <td>1</td>\n",
       "      <td>1</td>\n",
       "      <td>1</td>\n",
       "      <td>1</td>\n",
       "      <td>997</td>\n",
       "    </tr>\n",
       "    <tr>\n",
       "      <th>propertyzoningdesc</th>\n",
       "      <td>1978629</td>\n",
       "      <td>5638</td>\n",
       "      <td>LAR1</td>\n",
       "      <td>275029</td>\n",
       "      <td>NaN</td>\n",
       "      <td>NaN</td>\n",
       "      <td>NaN</td>\n",
       "      <td>NaN</td>\n",
       "      <td>NaN</td>\n",
       "      <td>NaN</td>\n",
       "      <td>NaN</td>\n",
       "    </tr>\n",
       "    <tr>\n",
       "      <th>lotsizesquarefeet</th>\n",
       "      <td>2.70912e+06</td>\n",
       "      <td>NaN</td>\n",
       "      <td>NaN</td>\n",
       "      <td>NaN</td>\n",
       "      <td>22822.8</td>\n",
       "      <td>337592</td>\n",
       "      <td>100</td>\n",
       "      <td>5688</td>\n",
       "      <td>7000</td>\n",
       "      <td>9898</td>\n",
       "      <td>3.28264e+08</td>\n",
       "    </tr>\n",
       "    <tr>\n",
       "      <th>finishedsquarefeet12</th>\n",
       "      <td>2.70918e+06</td>\n",
       "      <td>NaN</td>\n",
       "      <td>NaN</td>\n",
       "      <td>NaN</td>\n",
       "      <td>1760</td>\n",
       "      <td>971.061</td>\n",
       "      <td>1</td>\n",
       "      <td>1196</td>\n",
       "      <td>1539</td>\n",
       "      <td>2070</td>\n",
       "      <td>290345</td>\n",
       "    </tr>\n",
       "    <tr>\n",
       "      <th>fullbathcnt</th>\n",
       "      <td>2.85630e+06</td>\n",
       "      <td>NaN</td>\n",
       "      <td>NaN</td>\n",
       "      <td>NaN</td>\n",
       "      <td>2.24417</td>\n",
       "      <td>0.991205</td>\n",
       "      <td>1</td>\n",
       "      <td>2</td>\n",
       "      <td>2</td>\n",
       "      <td>3</td>\n",
       "      <td>20</td>\n",
       "    </tr>\n",
       "    <tr>\n",
       "      <th>calculatedbathnbr</th>\n",
       "      <td>2.85630e+06</td>\n",
       "      <td>NaN</td>\n",
       "      <td>NaN</td>\n",
       "      <td>NaN</td>\n",
       "      <td>2.29926</td>\n",
       "      <td>1.00074</td>\n",
       "      <td>1</td>\n",
       "      <td>2</td>\n",
       "      <td>2</td>\n",
       "      <td>3</td>\n",
       "      <td>20</td>\n",
       "    </tr>\n",
       "    <tr>\n",
       "      <th>censustractandblock</th>\n",
       "      <td>2.91009e+06</td>\n",
       "      <td>NaN</td>\n",
       "      <td>NaN</td>\n",
       "      <td>NaN</td>\n",
       "      <td>6.04843e+13</td>\n",
       "      <td>3.24903e+11</td>\n",
       "      <td>-1</td>\n",
       "      <td>6.0374e+13</td>\n",
       "      <td>6.03757e+13</td>\n",
       "      <td>6.05904e+13</td>\n",
       "      <td>4.8303e+14</td>\n",
       "    </tr>\n",
       "    <tr>\n",
       "      <th>landtaxvaluedollarcnt</th>\n",
       "      <td>2.91748e+06</td>\n",
       "      <td>NaN</td>\n",
       "      <td>NaN</td>\n",
       "      <td>NaN</td>\n",
       "      <td>252478</td>\n",
       "      <td>445013</td>\n",
       "      <td>1</td>\n",
       "      <td>74836</td>\n",
       "      <td>167042</td>\n",
       "      <td>306918</td>\n",
       "      <td>9.02462e+07</td>\n",
       "    </tr>\n",
       "    <tr>\n",
       "      <th>regionidcity</th>\n",
       "      <td>2.92237e+06</td>\n",
       "      <td>NaN</td>\n",
       "      <td>NaN</td>\n",
       "      <td>NaN</td>\n",
       "      <td>34993.4</td>\n",
       "      <td>50727.5</td>\n",
       "      <td>3491</td>\n",
       "      <td>12447</td>\n",
       "      <td>25218</td>\n",
       "      <td>45457</td>\n",
       "      <td>396556</td>\n",
       "    </tr>\n",
       "    <tr>\n",
       "      <th>yearbuilt</th>\n",
       "      <td>2.92529e+06</td>\n",
       "      <td>NaN</td>\n",
       "      <td>NaN</td>\n",
       "      <td>NaN</td>\n",
       "      <td>1964.26</td>\n",
       "      <td>23.4413</td>\n",
       "      <td>1801</td>\n",
       "      <td>1950</td>\n",
       "      <td>1963</td>\n",
       "      <td>1981</td>\n",
       "      <td>2015</td>\n",
       "    </tr>\n",
       "    <tr>\n",
       "      <th>calculatedfinishedsquarefeet</th>\n",
       "      <td>2.92965e+06</td>\n",
       "      <td>NaN</td>\n",
       "      <td>NaN</td>\n",
       "      <td>NaN</td>\n",
       "      <td>1827.16</td>\n",
       "      <td>1819.78</td>\n",
       "      <td>1</td>\n",
       "      <td>1213</td>\n",
       "      <td>1572</td>\n",
       "      <td>2136</td>\n",
       "      <td>952576</td>\n",
       "    </tr>\n",
       "    <tr>\n",
       "      <th>structuretaxvaluedollarcnt</th>\n",
       "      <td>2.93024e+06</td>\n",
       "      <td>NaN</td>\n",
       "      <td>NaN</td>\n",
       "      <td>NaN</td>\n",
       "      <td>170884</td>\n",
       "      <td>402068</td>\n",
       "      <td>1</td>\n",
       "      <td>74800</td>\n",
       "      <td>122590</td>\n",
       "      <td>196889</td>\n",
       "      <td>2.51486e+08</td>\n",
       "    </tr>\n",
       "    <tr>\n",
       "      <th>taxvaluedollarcnt</th>\n",
       "      <td>2.94267e+06</td>\n",
       "      <td>NaN</td>\n",
       "      <td>NaN</td>\n",
       "      <td>NaN</td>\n",
       "      <td>420479</td>\n",
       "      <td>726347</td>\n",
       "      <td>1</td>\n",
       "      <td>179675</td>\n",
       "      <td>306086</td>\n",
       "      <td>488000</td>\n",
       "      <td>2.82786e+08</td>\n",
       "    </tr>\n",
       "    <tr>\n",
       "      <th>taxamount</th>\n",
       "      <td>2.95397e+06</td>\n",
       "      <td>NaN</td>\n",
       "      <td>NaN</td>\n",
       "      <td>NaN</td>\n",
       "      <td>5377.61</td>\n",
       "      <td>9183.11</td>\n",
       "      <td>1.34</td>\n",
       "      <td>2461.07</td>\n",
       "      <td>3991.78</td>\n",
       "      <td>6201.01</td>\n",
       "      <td>3.45886e+06</td>\n",
       "    </tr>\n",
       "    <tr>\n",
       "      <th>regionidzip</th>\n",
       "      <td>2.97124e+06</td>\n",
       "      <td>NaN</td>\n",
       "      <td>NaN</td>\n",
       "      <td>NaN</td>\n",
       "      <td>96552.7</td>\n",
       "      <td>3673.18</td>\n",
       "      <td>95982</td>\n",
       "      <td>96180</td>\n",
       "      <td>96377</td>\n",
       "      <td>96974</td>\n",
       "      <td>399675</td>\n",
       "    </tr>\n",
       "    <tr>\n",
       "      <th>propertycountylandusecode</th>\n",
       "      <td>2972940</td>\n",
       "      <td>240</td>\n",
       "      <td>0100</td>\n",
       "      <td>1153896</td>\n",
       "      <td>NaN</td>\n",
       "      <td>NaN</td>\n",
       "      <td>NaN</td>\n",
       "      <td>NaN</td>\n",
       "      <td>NaN</td>\n",
       "      <td>NaN</td>\n",
       "      <td>NaN</td>\n",
       "    </tr>\n",
       "    <tr>\n",
       "      <th>roomcnt</th>\n",
       "      <td>2.97374e+06</td>\n",
       "      <td>NaN</td>\n",
       "      <td>NaN</td>\n",
       "      <td>NaN</td>\n",
       "      <td>1.47502</td>\n",
       "      <td>2.8404</td>\n",
       "      <td>0</td>\n",
       "      <td>0</td>\n",
       "      <td>0</td>\n",
       "      <td>0</td>\n",
       "      <td>96</td>\n",
       "    </tr>\n",
       "    <tr>\n",
       "      <th>bathroomcnt</th>\n",
       "      <td>2.97376e+06</td>\n",
       "      <td>NaN</td>\n",
       "      <td>NaN</td>\n",
       "      <td>NaN</td>\n",
       "      <td>2.20914</td>\n",
       "      <td>1.07775</td>\n",
       "      <td>0</td>\n",
       "      <td>2</td>\n",
       "      <td>2</td>\n",
       "      <td>3</td>\n",
       "      <td>20</td>\n",
       "    </tr>\n",
       "    <tr>\n",
       "      <th>bedroomcnt</th>\n",
       "      <td>2.97377e+06</td>\n",
       "      <td>NaN</td>\n",
       "      <td>NaN</td>\n",
       "      <td>NaN</td>\n",
       "      <td>3.08895</td>\n",
       "      <td>1.27586</td>\n",
       "      <td>0</td>\n",
       "      <td>2</td>\n",
       "      <td>3</td>\n",
       "      <td>4</td>\n",
       "      <td>20</td>\n",
       "    </tr>\n",
       "    <tr>\n",
       "      <th>assessmentyear</th>\n",
       "      <td>2.97378e+06</td>\n",
       "      <td>NaN</td>\n",
       "      <td>NaN</td>\n",
       "      <td>NaN</td>\n",
       "      <td>2015</td>\n",
       "      <td>0.0368316</td>\n",
       "      <td>2000</td>\n",
       "      <td>2015</td>\n",
       "      <td>2015</td>\n",
       "      <td>2015</td>\n",
       "      <td>2016</td>\n",
       "    </tr>\n",
       "    <tr>\n",
       "      <th>rawcensustractandblock</th>\n",
       "      <td>2.97378e+06</td>\n",
       "      <td>NaN</td>\n",
       "      <td>NaN</td>\n",
       "      <td>NaN</td>\n",
       "      <td>6.04834e+07</td>\n",
       "      <td>200812</td>\n",
       "      <td>6.0371e+07</td>\n",
       "      <td>6.03732e+07</td>\n",
       "      <td>6.03757e+07</td>\n",
       "      <td>6.05904e+07</td>\n",
       "      <td>6.11101e+07</td>\n",
       "    </tr>\n",
       "    <tr>\n",
       "      <th>fips</th>\n",
       "      <td>2.97378e+06</td>\n",
       "      <td>NaN</td>\n",
       "      <td>NaN</td>\n",
       "      <td>NaN</td>\n",
       "      <td>6048.03</td>\n",
       "      <td>20.2328</td>\n",
       "      <td>6037</td>\n",
       "      <td>6037</td>\n",
       "      <td>6037</td>\n",
       "      <td>6059</td>\n",
       "      <td>6111</td>\n",
       "    </tr>\n",
       "    <tr>\n",
       "      <th>latitude</th>\n",
       "      <td>2.97378e+06</td>\n",
       "      <td>NaN</td>\n",
       "      <td>NaN</td>\n",
       "      <td>NaN</td>\n",
       "      <td>3.40015e+07</td>\n",
       "      <td>243381</td>\n",
       "      <td>3.33244e+07</td>\n",
       "      <td>3.38277e+07</td>\n",
       "      <td>3.40082e+07</td>\n",
       "      <td>3.41619e+07</td>\n",
       "      <td>3.48196e+07</td>\n",
       "    </tr>\n",
       "    <tr>\n",
       "      <th>longitude</th>\n",
       "      <td>2.97378e+06</td>\n",
       "      <td>NaN</td>\n",
       "      <td>NaN</td>\n",
       "      <td>NaN</td>\n",
       "      <td>-1.18202e+08</td>\n",
       "      <td>345317</td>\n",
       "      <td>-1.19476e+08</td>\n",
       "      <td>-1.18393e+08</td>\n",
       "      <td>-1.18173e+08</td>\n",
       "      <td>-1.17949e+08</td>\n",
       "      <td>-1.17554e+08</td>\n",
       "    </tr>\n",
       "    <tr>\n",
       "      <th>propertylandusetypeid</th>\n",
       "      <td>2.97378e+06</td>\n",
       "      <td>NaN</td>\n",
       "      <td>NaN</td>\n",
       "      <td>NaN</td>\n",
       "      <td>260.048</td>\n",
       "      <td>15.9082</td>\n",
       "      <td>31</td>\n",
       "      <td>261</td>\n",
       "      <td>261</td>\n",
       "      <td>261</td>\n",
       "      <td>275</td>\n",
       "    </tr>\n",
       "    <tr>\n",
       "      <th>regionidcounty</th>\n",
       "      <td>2.97378e+06</td>\n",
       "      <td>NaN</td>\n",
       "      <td>NaN</td>\n",
       "      <td>NaN</td>\n",
       "      <td>2570.46</td>\n",
       "      <td>788.071</td>\n",
       "      <td>1286</td>\n",
       "      <td>2061</td>\n",
       "      <td>3101</td>\n",
       "      <td>3101</td>\n",
       "      <td>3101</td>\n",
       "    </tr>\n",
       "    <tr>\n",
       "      <th>parcelid</th>\n",
       "      <td>2.98522e+06</td>\n",
       "      <td>NaN</td>\n",
       "      <td>NaN</td>\n",
       "      <td>NaN</td>\n",
       "      <td>1.33259e+07</td>\n",
       "      <td>7.90997e+06</td>\n",
       "      <td>1.07117e+07</td>\n",
       "      <td>1.16437e+07</td>\n",
       "      <td>1.25451e+07</td>\n",
       "      <td>1.40971e+07</td>\n",
       "      <td>1.69602e+08</td>\n",
       "    </tr>\n",
       "  </tbody>\n",
       "</table>\n",
       "</div>"
      ],
      "text/plain": [
       "                                    count unique   top     freq         mean  \\\n",
       "storytypeid                          1624    NaN   NaN      NaN            7   \n",
       "basementsqft                         1628    NaN   NaN      NaN      646.883   \n",
       "yardbuildingsqft26                   2647    NaN   NaN      NaN      278.297   \n",
       "fireplaceflag                        5163      1  True     5163          NaN   \n",
       "architecturalstyletypeid             6061    NaN   NaN      NaN      7.20261   \n",
       "typeconstructiontypeid               6747    NaN   NaN      NaN      5.99956   \n",
       "finishedsquarefeet13                 7672    NaN   NaN      NaN       1178.9   \n",
       "buildingclasstypeid                 12629    NaN   NaN      NaN      3.72595   \n",
       "decktypeid                          17096    NaN   NaN      NaN           66   \n",
       "finishedsquarefeet6                 22001    NaN   NaN      NaN      2414.34   \n",
       "poolsizesum                         27960    NaN   NaN      NaN      519.711   \n",
       "pooltypeid2                         32075    NaN   NaN      NaN            1   \n",
       "pooltypeid10                        36939    NaN   NaN      NaN            1   \n",
       "taxdelinquencyflag                  56462      1     Y    56462          NaN   \n",
       "taxdelinquencyyear                  56464    NaN   NaN      NaN      13.8924   \n",
       "hashottuborspa                      69014      1  True    69014          NaN   \n",
       "yardbuildingsqft17                  80355    NaN   NaN      NaN      319.803   \n",
       "finishedsquarefeet15               190798    NaN   NaN      NaN      2739.19   \n",
       "finishedsquarefeet50               202717    NaN   NaN      NaN      1388.94   \n",
       "finishedfloor1squarefeet           202717    NaN   NaN      NaN      1380.63   \n",
       "threequarterbathnbr                311631    NaN   NaN      NaN      1.01001   \n",
       "fireplacecnt                       312637    NaN   NaN      NaN      1.16871   \n",
       "pooltypeid7                        485459    NaN   NaN      NaN            1   \n",
       "poolcnt                            517534    NaN   NaN      NaN            1   \n",
       "numberofstories                    682069    NaN   NaN      NaN      1.40146   \n",
       "airconditioningtypeid              811519    NaN   NaN      NaN      1.93117   \n",
       "garagecarcnt                       883267    NaN   NaN      NaN      1.82352   \n",
       "garagetotalsqft                    883267    NaN   NaN      NaN      383.769   \n",
       "regionidneighborhood           1.1564e+06    NaN   NaN      NaN       193476   \n",
       "heatingorsystemtypeid          1.8064e+06    NaN   NaN      NaN      4.01205   \n",
       "buildingqualitytypeid         1.93849e+06    NaN   NaN      NaN      5.78479   \n",
       "unitcnt                       1.97749e+06    NaN   NaN      NaN      1.18117   \n",
       "propertyzoningdesc                1978629   5638  LAR1   275029          NaN   \n",
       "lotsizesquarefeet             2.70912e+06    NaN   NaN      NaN      22822.8   \n",
       "finishedsquarefeet12          2.70918e+06    NaN   NaN      NaN         1760   \n",
       "fullbathcnt                   2.85630e+06    NaN   NaN      NaN      2.24417   \n",
       "calculatedbathnbr             2.85630e+06    NaN   NaN      NaN      2.29926   \n",
       "censustractandblock           2.91009e+06    NaN   NaN      NaN  6.04843e+13   \n",
       "landtaxvaluedollarcnt         2.91748e+06    NaN   NaN      NaN       252478   \n",
       "regionidcity                  2.92237e+06    NaN   NaN      NaN      34993.4   \n",
       "yearbuilt                     2.92529e+06    NaN   NaN      NaN      1964.26   \n",
       "calculatedfinishedsquarefeet  2.92965e+06    NaN   NaN      NaN      1827.16   \n",
       "structuretaxvaluedollarcnt    2.93024e+06    NaN   NaN      NaN       170884   \n",
       "taxvaluedollarcnt             2.94267e+06    NaN   NaN      NaN       420479   \n",
       "taxamount                     2.95397e+06    NaN   NaN      NaN      5377.61   \n",
       "regionidzip                   2.97124e+06    NaN   NaN      NaN      96552.7   \n",
       "propertycountylandusecode         2972940    240  0100  1153896          NaN   \n",
       "roomcnt                       2.97374e+06    NaN   NaN      NaN      1.47502   \n",
       "bathroomcnt                   2.97376e+06    NaN   NaN      NaN      2.20914   \n",
       "bedroomcnt                    2.97377e+06    NaN   NaN      NaN      3.08895   \n",
       "assessmentyear                2.97378e+06    NaN   NaN      NaN         2015   \n",
       "rawcensustractandblock        2.97378e+06    NaN   NaN      NaN  6.04834e+07   \n",
       "fips                          2.97378e+06    NaN   NaN      NaN      6048.03   \n",
       "latitude                      2.97378e+06    NaN   NaN      NaN  3.40015e+07   \n",
       "longitude                     2.97378e+06    NaN   NaN      NaN -1.18202e+08   \n",
       "propertylandusetypeid         2.97378e+06    NaN   NaN      NaN      260.048   \n",
       "regionidcounty                2.97378e+06    NaN   NaN      NaN      2570.46   \n",
       "parcelid                      2.98522e+06    NaN   NaN      NaN  1.33259e+07   \n",
       "\n",
       "                                      std          min          25%  \\\n",
       "storytypeid                             0            7            7   \n",
       "basementsqft                      538.793           20          272   \n",
       "yardbuildingsqft26                369.732           10           96   \n",
       "fireplaceflag                         NaN          NaN          NaN   \n",
       "architecturalstyletypeid          2.43629            2            7   \n",
       "typeconstructiontypeid            0.38405            4            6   \n",
       "finishedsquarefeet13              357.073          120          960   \n",
       "buildingclasstypeid                0.5017            1            3   \n",
       "decktypeid                              0           66           66   \n",
       "finishedsquarefeet6                7695.3          117         1079   \n",
       "poolsizesum                       191.323           19          430   \n",
       "pooltypeid2                             0            1            1   \n",
       "pooltypeid10                            0            1            1   \n",
       "taxdelinquencyflag                    NaN          NaN          NaN   \n",
       "taxdelinquencyyear                2.58101            0           14   \n",
       "hashottuborspa                        NaN          NaN          NaN   \n",
       "yardbuildingsqft17                233.086           10          190   \n",
       "finishedsquarefeet15              5447.43          112         1694   \n",
       "finishedsquarefeet50              664.489            3         1013   \n",
       "finishedfloor1squarefeet          632.869            3         1012   \n",
       "threequarterbathnbr              0.117709            1            1   \n",
       "fireplacecnt                     0.461273            1            1   \n",
       "pooltypeid7                             0            1            1   \n",
       "poolcnt                                 0            1            1   \n",
       "numberofstories                  0.539076            1            1   \n",
       "airconditioningtypeid             3.14859            1            1   \n",
       "garagecarcnt                     0.610035            0            2   \n",
       "garagetotalsqft                   245.443            0          324   \n",
       "regionidneighborhood               165713         6952        46736   \n",
       "heatingorsystemtypeid             3.29373            1            2   \n",
       "buildingqualitytypeid             1.80535            1            4   \n",
       "unitcnt                            2.4479            1            1   \n",
       "propertyzoningdesc                    NaN          NaN          NaN   \n",
       "lotsizesquarefeet                  337592          100         5688   \n",
       "finishedsquarefeet12              971.061            1         1196   \n",
       "fullbathcnt                      0.991205            1            2   \n",
       "calculatedbathnbr                 1.00074            1            2   \n",
       "censustractandblock           3.24903e+11           -1   6.0374e+13   \n",
       "landtaxvaluedollarcnt              445013            1        74836   \n",
       "regionidcity                      50727.5         3491        12447   \n",
       "yearbuilt                         23.4413         1801         1950   \n",
       "calculatedfinishedsquarefeet      1819.78            1         1213   \n",
       "structuretaxvaluedollarcnt         402068            1        74800   \n",
       "taxvaluedollarcnt                  726347            1       179675   \n",
       "taxamount                         9183.11         1.34      2461.07   \n",
       "regionidzip                       3673.18        95982        96180   \n",
       "propertycountylandusecode             NaN          NaN          NaN   \n",
       "roomcnt                            2.8404            0            0   \n",
       "bathroomcnt                       1.07775            0            2   \n",
       "bedroomcnt                        1.27586            0            2   \n",
       "assessmentyear                  0.0368316         2000         2015   \n",
       "rawcensustractandblock             200812   6.0371e+07  6.03732e+07   \n",
       "fips                              20.2328         6037         6037   \n",
       "latitude                           243381  3.33244e+07  3.38277e+07   \n",
       "longitude                          345317 -1.19476e+08 -1.18393e+08   \n",
       "propertylandusetypeid             15.9082           31          261   \n",
       "regionidcounty                    788.071         1286         2061   \n",
       "parcelid                      7.90997e+06  1.07117e+07  1.16437e+07   \n",
       "\n",
       "                                      50%          75%          max  \n",
       "storytypeid                             7            7            7  \n",
       "basementsqft                          534       847.25         8516  \n",
       "yardbuildingsqft26                    168          320         6141  \n",
       "fireplaceflag                         NaN          NaN          NaN  \n",
       "architecturalstyletypeid                7            7           27  \n",
       "typeconstructiontypeid                  6            6           13  \n",
       "finishedsquarefeet13                 1296         1440         2688  \n",
       "buildingclasstypeid                     4            4            5  \n",
       "decktypeid                             66           66           66  \n",
       "finishedsquarefeet6                  1992         3366       952576  \n",
       "poolsizesum                           495          594        17410  \n",
       "pooltypeid2                             1            1            1  \n",
       "pooltypeid10                            1            1            1  \n",
       "taxdelinquencyflag                    NaN          NaN          NaN  \n",
       "taxdelinquencyyear                     14           15           99  \n",
       "hashottuborspa                        NaN          NaN          NaN  \n",
       "yardbuildingsqft17                    270          390         7983  \n",
       "finishedsquarefeet15                 2172         2976       820242  \n",
       "finishedsquarefeet50                 1284         1618        31303  \n",
       "finishedfloor1squarefeet             1283         1615        31303  \n",
       "threequarterbathnbr                     1            1            7  \n",
       "fireplacecnt                            1            1            9  \n",
       "pooltypeid7                             1            1            1  \n",
       "poolcnt                                 1            1            1  \n",
       "numberofstories                         1            2           41  \n",
       "airconditioningtypeid                   1            1           13  \n",
       "garagecarcnt                            2            2           25  \n",
       "garagetotalsqft                       441          494         7749  \n",
       "regionidneighborhood               118920       274800       764167  \n",
       "heatingorsystemtypeid                   2            7           24  \n",
       "buildingqualitytypeid                   7            7           12  \n",
       "unitcnt                                 1            1          997  \n",
       "propertyzoningdesc                    NaN          NaN          NaN  \n",
       "lotsizesquarefeet                    7000         9898  3.28264e+08  \n",
       "finishedsquarefeet12                 1539         2070       290345  \n",
       "fullbathcnt                             2            3           20  \n",
       "calculatedbathnbr                       2            3           20  \n",
       "censustractandblock           6.03757e+13  6.05904e+13   4.8303e+14  \n",
       "landtaxvaluedollarcnt              167042       306918  9.02462e+07  \n",
       "regionidcity                        25218        45457       396556  \n",
       "yearbuilt                            1963         1981         2015  \n",
       "calculatedfinishedsquarefeet         1572         2136       952576  \n",
       "structuretaxvaluedollarcnt         122590       196889  2.51486e+08  \n",
       "taxvaluedollarcnt                  306086       488000  2.82786e+08  \n",
       "taxamount                         3991.78      6201.01  3.45886e+06  \n",
       "regionidzip                         96377        96974       399675  \n",
       "propertycountylandusecode             NaN          NaN          NaN  \n",
       "roomcnt                                 0            0           96  \n",
       "bathroomcnt                             2            3           20  \n",
       "bedroomcnt                              3            4           20  \n",
       "assessmentyear                       2015         2015         2016  \n",
       "rawcensustractandblock        6.03757e+07  6.05904e+07  6.11101e+07  \n",
       "fips                                 6037         6059         6111  \n",
       "latitude                      3.40082e+07  3.41619e+07  3.48196e+07  \n",
       "longitude                    -1.18173e+08 -1.17949e+08 -1.17554e+08  \n",
       "propertylandusetypeid                 261          261          275  \n",
       "regionidcounty                       3101         3101         3101  \n",
       "parcelid                      1.25451e+07  1.40971e+07  1.69602e+08  "
      ]
     },
     "execution_count": 5,
     "metadata": {},
     "output_type": "execute_result"
    }
   ],
   "source": [
    "# look at properties 2016 dataframe\n",
    "properties_2016.describe(include='all').transpose().sort_values(by='count')"
   ]
  },
  {
   "cell_type": "code",
   "execution_count": 7,
   "metadata": {},
   "outputs": [
    {
     "data": {
      "text/html": [
       "<div>\n",
       "<style scoped>\n",
       "    .dataframe tbody tr th:only-of-type {\n",
       "        vertical-align: middle;\n",
       "    }\n",
       "\n",
       "    .dataframe tbody tr th {\n",
       "        vertical-align: top;\n",
       "    }\n",
       "\n",
       "    .dataframe thead th {\n",
       "        text-align: right;\n",
       "    }\n",
       "</style>\n",
       "<table border=\"1\" class=\"dataframe\">\n",
       "  <thead>\n",
       "    <tr style=\"text-align: right;\">\n",
       "      <th></th>\n",
       "      <th>count</th>\n",
       "      <th>unique</th>\n",
       "      <th>top</th>\n",
       "      <th>freq</th>\n",
       "      <th>mean</th>\n",
       "      <th>std</th>\n",
       "      <th>min</th>\n",
       "      <th>25%</th>\n",
       "      <th>50%</th>\n",
       "      <th>75%</th>\n",
       "      <th>max</th>\n",
       "    </tr>\n",
       "  </thead>\n",
       "  <tbody>\n",
       "    <tr>\n",
       "      <th>parcelid</th>\n",
       "      <td>90275</td>\n",
       "      <td>NaN</td>\n",
       "      <td>NaN</td>\n",
       "      <td>NaN</td>\n",
       "      <td>1.29847e+07</td>\n",
       "      <td>2.50451e+06</td>\n",
       "      <td>1.07117e+07</td>\n",
       "      <td>1.15595e+07</td>\n",
       "      <td>1.25473e+07</td>\n",
       "      <td>1.42276e+07</td>\n",
       "      <td>1.62961e+08</td>\n",
       "    </tr>\n",
       "    <tr>\n",
       "      <th>logerror</th>\n",
       "      <td>90275</td>\n",
       "      <td>NaN</td>\n",
       "      <td>NaN</td>\n",
       "      <td>NaN</td>\n",
       "      <td>0.0114572</td>\n",
       "      <td>0.161079</td>\n",
       "      <td>-4.605</td>\n",
       "      <td>-0.0253</td>\n",
       "      <td>0.006</td>\n",
       "      <td>0.0392</td>\n",
       "      <td>4.737</td>\n",
       "    </tr>\n",
       "    <tr>\n",
       "      <th>transactiondate</th>\n",
       "      <td>90275</td>\n",
       "      <td>352</td>\n",
       "      <td>2016-07-29</td>\n",
       "      <td>910</td>\n",
       "      <td>NaN</td>\n",
       "      <td>NaN</td>\n",
       "      <td>NaN</td>\n",
       "      <td>NaN</td>\n",
       "      <td>NaN</td>\n",
       "      <td>NaN</td>\n",
       "      <td>NaN</td>\n",
       "    </tr>\n",
       "  </tbody>\n",
       "</table>\n",
       "</div>"
      ],
      "text/plain": [
       "                 count unique         top freq         mean          std  \\\n",
       "parcelid         90275    NaN         NaN  NaN  1.29847e+07  2.50451e+06   \n",
       "logerror         90275    NaN         NaN  NaN    0.0114572     0.161079   \n",
       "transactiondate  90275    352  2016-07-29  910          NaN          NaN   \n",
       "\n",
       "                         min          25%          50%          75%  \\\n",
       "parcelid         1.07117e+07  1.15595e+07  1.25473e+07  1.42276e+07   \n",
       "logerror              -4.605      -0.0253        0.006       0.0392   \n",
       "transactiondate          NaN          NaN          NaN          NaN   \n",
       "\n",
       "                         max  \n",
       "parcelid         1.62961e+08  \n",
       "logerror               4.737  \n",
       "transactiondate          NaN  "
      ]
     },
     "execution_count": 7,
     "metadata": {},
     "output_type": "execute_result"
    }
   ],
   "source": [
    "# look at train 2016 dataframe\n",
    "train_2016.describe(include='all').transpose().sort_values(by='count')"
   ]
  },
  {
   "cell_type": "code",
   "execution_count": 6,
   "metadata": {},
   "outputs": [
    {
     "name": "stdout",
     "output_type": "stream",
     "text": [
      "parcelid                    int64\n",
      "logerror                  float64\n",
      "transactiondate    datetime64[ns]\n",
      "dtype: object\n"
     ]
    }
   ],
   "source": [
    "# Convert the transactiondate column to a datetime\n",
    "train_2016.transactiondate = pd.to_datetime(train_2016.transactiondate, infer_datetime_format=True)\n",
    "print(train_2016.dtypes)"
   ]
  },
  {
   "cell_type": "markdown",
   "metadata": {
    "heading_collapsed": true
   },
   "source": [
    "## Merge train + properties data"
   ]
  },
  {
   "cell_type": "code",
   "execution_count": 7,
   "metadata": {
    "hidden": true
   },
   "outputs": [],
   "source": [
    "# merge the logerror and transactiondate the properties and filter to only 2016 data\n",
    "combined_df = properties_2016.merge(train_2016, on='parcelid', how='inner',left_index=True,right_index=True, copy='False')\n",
    "combined_df.set_index(keys='parcelid',inplace=True)"
   ]
  },
  {
   "cell_type": "code",
   "execution_count": 8,
   "metadata": {
    "hidden": true
   },
   "outputs": [],
   "source": [
    "# convert Lat/Long to actual Lat/Long\n",
    "# note - run this cell one-time or latitude/longtitude will continue to divide by 1e6\n",
    "combined_df['latitude'] = combined_df['latitude']/1e6\n",
    "combined_df['longitude'] = combined_df['longitude']/1e6\n",
    "\n",
    "# combine latitude and longtitude into one column\n",
    "combined_df['latlng'] = combined_df['latitude'].map(str) + ',' + combined_df['longitude'].map(str)"
   ]
  },
  {
   "cell_type": "markdown",
   "metadata": {
    "heading_collapsed": true
   },
   "source": [
    "## Map Latitude + Longitude to City & County"
   ]
  },
  {
   "cell_type": "code",
   "execution_count": 9,
   "metadata": {
    "hidden": true
   },
   "outputs": [
    {
     "name": "stdout",
     "output_type": "stream",
     "text": [
      "Loading formatted geocoded file...\n"
     ]
    }
   ],
   "source": [
    "# lookup lat/long locations\n",
    "coordinates = combined_df[\"latlng\"].apply(lambda x: tuple(x.split(',')))\n",
    "results = rg.search(coordinates.tolist())\n",
    "\n",
    "city = [result.get(\"name\") for result in results]\n",
    "county = [result.get(\"admin2\") for result in results]\n",
    "\n",
    "combined_df['city'] = city\n",
    "combined_df['county'] = county\n",
    "\n",
    "# create a combined variable for better categorization\n",
    "combined_df['county_city'] = list(zip(county, city))\n",
    "combined_df['county_city'] = combined_df['county_city'].astype('category')"
   ]
  },
  {
   "cell_type": "code",
   "execution_count": 10,
   "metadata": {
    "hidden": true
   },
   "outputs": [
    {
     "data": {
      "text/html": [
       "<div>\n",
       "<style scoped>\n",
       "    .dataframe tbody tr th:only-of-type {\n",
       "        vertical-align: middle;\n",
       "    }\n",
       "\n",
       "    .dataframe tbody tr th {\n",
       "        vertical-align: top;\n",
       "    }\n",
       "\n",
       "    .dataframe thead th {\n",
       "        text-align: right;\n",
       "    }\n",
       "</style>\n",
       "<table border=\"1\" class=\"dataframe\">\n",
       "  <thead>\n",
       "    <tr style=\"text-align: right;\">\n",
       "      <th></th>\n",
       "      <th>airconditioningtypeid</th>\n",
       "      <th>architecturalstyletypeid</th>\n",
       "      <th>basementsqft</th>\n",
       "      <th>bathroomcnt</th>\n",
       "      <th>bedroomcnt</th>\n",
       "      <th>buildingclasstypeid</th>\n",
       "      <th>buildingqualitytypeid</th>\n",
       "      <th>calculatedbathnbr</th>\n",
       "      <th>decktypeid</th>\n",
       "      <th>finishedfloor1squarefeet</th>\n",
       "      <th>...</th>\n",
       "      <th>taxamount</th>\n",
       "      <th>taxdelinquencyflag</th>\n",
       "      <th>taxdelinquencyyear</th>\n",
       "      <th>censustractandblock</th>\n",
       "      <th>logerror</th>\n",
       "      <th>transactiondate</th>\n",
       "      <th>latlng</th>\n",
       "      <th>city</th>\n",
       "      <th>county</th>\n",
       "      <th>county_city</th>\n",
       "    </tr>\n",
       "    <tr>\n",
       "      <th>parcelid</th>\n",
       "      <th></th>\n",
       "      <th></th>\n",
       "      <th></th>\n",
       "      <th></th>\n",
       "      <th></th>\n",
       "      <th></th>\n",
       "      <th></th>\n",
       "      <th></th>\n",
       "      <th></th>\n",
       "      <th></th>\n",
       "      <th></th>\n",
       "      <th></th>\n",
       "      <th></th>\n",
       "      <th></th>\n",
       "      <th></th>\n",
       "      <th></th>\n",
       "      <th></th>\n",
       "      <th></th>\n",
       "      <th></th>\n",
       "      <th></th>\n",
       "      <th></th>\n",
       "    </tr>\n",
       "  </thead>\n",
       "  <tbody>\n",
       "    <tr>\n",
       "      <th>10754147</th>\n",
       "      <td>NaN</td>\n",
       "      <td>NaN</td>\n",
       "      <td>NaN</td>\n",
       "      <td>0.0</td>\n",
       "      <td>0.0</td>\n",
       "      <td>NaN</td>\n",
       "      <td>NaN</td>\n",
       "      <td>NaN</td>\n",
       "      <td>NaN</td>\n",
       "      <td>NaN</td>\n",
       "      <td>...</td>\n",
       "      <td>NaN</td>\n",
       "      <td>NaN</td>\n",
       "      <td>NaN</td>\n",
       "      <td>NaN</td>\n",
       "      <td>0.0276</td>\n",
       "      <td>2016-01-01</td>\n",
       "      <td>34.144442,-118.654084</td>\n",
       "      <td>Hidden Hills</td>\n",
       "      <td>Los Angeles County</td>\n",
       "      <td>(Los Angeles County, Hidden Hills)</td>\n",
       "    </tr>\n",
       "    <tr>\n",
       "      <th>10759547</th>\n",
       "      <td>NaN</td>\n",
       "      <td>NaN</td>\n",
       "      <td>NaN</td>\n",
       "      <td>0.0</td>\n",
       "      <td>0.0</td>\n",
       "      <td>NaN</td>\n",
       "      <td>NaN</td>\n",
       "      <td>NaN</td>\n",
       "      <td>NaN</td>\n",
       "      <td>NaN</td>\n",
       "      <td>...</td>\n",
       "      <td>NaN</td>\n",
       "      <td>NaN</td>\n",
       "      <td>NaN</td>\n",
       "      <td>NaN</td>\n",
       "      <td>-0.1684</td>\n",
       "      <td>2016-01-01</td>\n",
       "      <td>34.14043,-118.625364</td>\n",
       "      <td>Calabasas</td>\n",
       "      <td>Los Angeles County</td>\n",
       "      <td>(Los Angeles County, Calabasas)</td>\n",
       "    </tr>\n",
       "  </tbody>\n",
       "</table>\n",
       "<p>2 rows × 63 columns</p>\n",
       "</div>"
      ],
      "text/plain": [
       "          airconditioningtypeid  architecturalstyletypeid  basementsqft  \\\n",
       "parcelid                                                                  \n",
       "10754147                    NaN                       NaN           NaN   \n",
       "10759547                    NaN                       NaN           NaN   \n",
       "\n",
       "          bathroomcnt  bedroomcnt  buildingclasstypeid  buildingqualitytypeid  \\\n",
       "parcelid                                                                        \n",
       "10754147          0.0         0.0                  NaN                    NaN   \n",
       "10759547          0.0         0.0                  NaN                    NaN   \n",
       "\n",
       "          calculatedbathnbr  decktypeid  finishedfloor1squarefeet  \\\n",
       "parcelid                                                            \n",
       "10754147                NaN         NaN                       NaN   \n",
       "10759547                NaN         NaN                       NaN   \n",
       "\n",
       "                         ...                  taxamount  taxdelinquencyflag  \\\n",
       "parcelid                 ...                                                  \n",
       "10754147                 ...                        NaN                 NaN   \n",
       "10759547                 ...                        NaN                 NaN   \n",
       "\n",
       "          taxdelinquencyyear  censustractandblock  logerror  transactiondate  \\\n",
       "parcelid                                                                       \n",
       "10754147                 NaN                  NaN    0.0276       2016-01-01   \n",
       "10759547                 NaN                  NaN   -0.1684       2016-01-01   \n",
       "\n",
       "                         latlng          city              county  \\\n",
       "parcelid                                                            \n",
       "10754147  34.144442,-118.654084  Hidden Hills  Los Angeles County   \n",
       "10759547   34.14043,-118.625364     Calabasas  Los Angeles County   \n",
       "\n",
       "                                 county_city  \n",
       "parcelid                                      \n",
       "10754147  (Los Angeles County, Hidden Hills)  \n",
       "10759547     (Los Angeles County, Calabasas)  \n",
       "\n",
       "[2 rows x 63 columns]"
      ]
     },
     "execution_count": 10,
     "metadata": {},
     "output_type": "execute_result"
    }
   ],
   "source": [
    "# verify that city, county, and county_city are pulled in correctly\n",
    "combined_df.head(2)"
   ]
  },
  {
   "cell_type": "markdown",
   "metadata": {},
   "source": [
    "## Only keep counties in Los Angeles, Orange and Ventura, California. \n",
    "### (Per Zillow you are provided with a full list of real estate properties in three counties (Los Angeles, Orange and Ventura, California) data in 2016.)"
   ]
  },
  {
   "cell_type": "code",
   "execution_count": 13,
   "metadata": {},
   "outputs": [
    {
     "name": "stdout",
     "output_type": "stream",
     "text": [
      "Los Angeles County       59641\n",
      "Orange County            22972\n",
      "Ventura County            7535\n",
      "San Bernardino County      115\n",
      "Kern County                  9\n",
      "Santa Barbara County         3\n",
      "Name: county, dtype: int64\n"
     ]
    }
   ],
   "source": [
    "print(combined_df['county'].value_counts())"
   ]
  },
  {
   "cell_type": "code",
   "execution_count": 11,
   "metadata": {},
   "outputs": [],
   "source": [
    "combined_df = combined_df[(combined_df['county'] == 'Los Angeles County') | (combined_df['county'] == 'Orange County') | (combined_df['county'] == 'Ventura County')]\n"
   ]
  },
  {
   "cell_type": "code",
   "execution_count": 12,
   "metadata": {},
   "outputs": [
    {
     "name": "stdout",
     "output_type": "stream",
     "text": [
      "Los Angeles County    59641\n",
      "Orange County         22972\n",
      "Ventura County         7535\n",
      "Name: county, dtype: int64\n"
     ]
    }
   ],
   "source": [
    "print(combined_df['county'].value_counts())"
   ]
  },
  {
   "cell_type": "markdown",
   "metadata": {
    "heading_collapsed": true
   },
   "source": [
    "## We end up with 90,148 rows of data\n",
    "\n",
    "## Now we look at the continuous data with the highest correlations"
   ]
  },
  {
   "cell_type": "code",
   "execution_count": 16,
   "metadata": {
    "hidden": true
   },
   "outputs": [],
   "source": [
    "# create a deep copy of the merged dataframe (combined_df) above\n",
    "ray_df = combined_df.copy(deep = True)"
   ]
  },
  {
   "cell_type": "code",
   "execution_count": 17,
   "metadata": {
    "hidden": true
   },
   "outputs": [],
   "source": [
    "def cat_or_float(df):\n",
    "    categorical_col = []\n",
    "    continuous_col = []\n",
    "    for i in df.columns:\n",
    "        if type(df[i].iloc[1]) == str:\n",
    "            categorical_col.append(i)\n",
    "        if type(df[i].iloc[1]) == np.float64:\n",
    "            continuous_col.append(i)\n",
    "    return continuous_col, categorical_col"
   ]
  },
  {
   "cell_type": "code",
   "execution_count": 18,
   "metadata": {
    "hidden": true
   },
   "outputs": [],
   "source": [
    "cont_col, cat_col = cat_or_float(ray_df)"
   ]
  },
  {
   "cell_type": "code",
   "execution_count": 19,
   "metadata": {
    "hidden": true
   },
   "outputs": [
    {
     "data": {
      "text/plain": [
       "['airconditioningtypeid',\n",
       " 'architecturalstyletypeid',\n",
       " 'basementsqft',\n",
       " 'bathroomcnt',\n",
       " 'bedroomcnt',\n",
       " 'buildingclasstypeid',\n",
       " 'buildingqualitytypeid',\n",
       " 'calculatedbathnbr',\n",
       " 'decktypeid',\n",
       " 'finishedfloor1squarefeet']"
      ]
     },
     "metadata": {},
     "output_type": "display_data"
    },
    {
     "data": {
      "text/plain": [
       "['propertycountylandusecode', 'propertyzoningdesc', 'latlng', 'city', 'county']"
      ]
     },
     "metadata": {},
     "output_type": "display_data"
    }
   ],
   "source": [
    "display(cont_col[:10])\n",
    "display(cat_col)"
   ]
  },
  {
   "cell_type": "code",
   "execution_count": 20,
   "metadata": {
    "hidden": true
   },
   "outputs": [
    {
     "name": "stdout",
     "output_type": "stream",
     "text": [
      "categorical column propertycountylandusecode contains 109 unique values for dummy columns\n",
      "categorical column propertyzoningdesc contains 2141 unique values for dummy columns\n",
      "categorical column latlng contains 84439 unique values for dummy columns\n",
      "categorical column city contains 217 unique values for dummy columns\n",
      "categorical column county contains 3 unique values for dummy columns\n"
     ]
    }
   ],
   "source": [
    "# add logerror into the cat_col\n",
    "for i in cat_col:\n",
    "    print('categorical column {0} contains {1} unique values for dummy columns'.format(i, len(ray_df[i].unique())))\n",
    "cat_col.append('logerror')"
   ]
  },
  {
   "cell_type": "code",
   "execution_count": 21,
   "metadata": {
    "hidden": true
   },
   "outputs": [
    {
     "name": "stdout",
     "output_type": "stream",
     "text": [
      "parcelid\n",
      "10754147       Hidden Hills\n",
      "10759547          Calabasas\n",
      "10843547     Ladera Heights\n",
      "10859147       Sherman Oaks\n",
      "10879947    North Hollywood\n",
      "Name: city, dtype: object\n"
     ]
    }
   ],
   "source": [
    "print(ray_df['city'].head())"
   ]
  },
  {
   "cell_type": "code",
   "execution_count": 22,
   "metadata": {
    "hidden": true
   },
   "outputs": [],
   "source": [
    "cat_df = ray_df[['county','logerror']]\n",
    "con_df = ray_df[cont_col]"
   ]
  },
  {
   "cell_type": "code",
   "execution_count": 23,
   "metadata": {
    "hidden": true
   },
   "outputs": [],
   "source": [
    "# Turns categorical data into dummy binary columns\n",
    "df_dummies_cat = pd.get_dummies(cat_df)"
   ]
  },
  {
   "cell_type": "code",
   "execution_count": 24,
   "metadata": {
    "hidden": true
   },
   "outputs": [
    {
     "name": "stdout",
     "output_type": "stream",
     "text": [
      "Index(['logerror', 'county_Los Angeles County', 'county_Orange County',\n",
      "       'county_Ventura County'],\n",
      "      dtype='object')\n"
     ]
    }
   ],
   "source": [
    "print(df_dummies_cat.columns)"
   ]
  },
  {
   "cell_type": "markdown",
   "metadata": {
    "heading_collapsed": true
   },
   "source": [
    "## <font color=green> [Ray] Going to plot corr of continuous variables (53 variables)</font>"
   ]
  },
  {
   "cell_type": "code",
   "execution_count": 25,
   "metadata": {
    "hidden": true
   },
   "outputs": [
    {
     "name": "stdout",
     "output_type": "stream",
     "text": [
      "airconditioningtypeid - architecturalstyletypeid - basementsqft - bathroomcnt - bedroomcnt - buildingclasstypeid - buildingqualitytypeid - calculatedbathnbr - decktypeid - finishedfloor1squarefeet - calculatedfinishedsquarefeet - finishedsquarefeet12 - finishedsquarefeet13 - finishedsquarefeet15 - finishedsquarefeet50 - finishedsquarefeet6 - fips - fireplacecnt - fullbathcnt - garagecarcnt - garagetotalsqft - heatingorsystemtypeid - latitude - longitude - lotsizesquarefeet - poolcnt - poolsizesum - pooltypeid10 - pooltypeid2 - pooltypeid7 - propertylandusetypeid - rawcensustractandblock - regionidcity - regionidcounty - regionidneighborhood - regionidzip - roomcnt - storytypeid - threequarterbathnbr - typeconstructiontypeid - unitcnt - yardbuildingsqft17 - yardbuildingsqft26 - yearbuilt - numberofstories - structuretaxvaluedollarcnt - taxvaluedollarcnt - assessmentyear - landtaxvaluedollarcnt - taxamount - taxdelinquencyyear - censustractandblock - logerror\n"
     ]
    }
   ],
   "source": [
    "print(*con_df.columns, sep=\" - \")"
   ]
  },
  {
   "cell_type": "code",
   "execution_count": 26,
   "metadata": {
    "hidden": true
   },
   "outputs": [],
   "source": [
    "def col_append(col_ind):\n",
    "    col = cont_col[col_ind:col_ind+10]\n",
    "    col.append('logerror')\n",
    "    return col"
   ]
  },
  {
   "cell_type": "code",
   "execution_count": 27,
   "metadata": {
    "hidden": true
   },
   "outputs": [],
   "source": [
    "df1, df2, df3, df4, df5 = con_df[col_append(0)], con_df[col_append(10)], con_df[col_append(20)], con_df[col_append(30)], con_df[col_append(40)]\n",
    "df6 = con_df[con_df.columns[50:]]"
   ]
  },
  {
   "cell_type": "markdown",
   "metadata": {
    "heading_collapsed": true
   },
   "source": [
    "## From the chart below, we see a log error has a higher correlation with architecturalstyletypeid and basementsqft "
   ]
  },
  {
   "cell_type": "code",
   "execution_count": 28,
   "metadata": {
    "hidden": true
   },
   "outputs": [
    {
     "data": {
      "image/png": "[encoded data removed]",
      "text/plain": [
       "<Figure size 864x720 with 1 Axes>"
      ]
     },
     "metadata": {
      "needs_background": "light"
     },
     "output_type": "display_data"
    }
   ],
   "source": [
    "# df1 - get Correlation of logerror with other variables:\n",
    "plt.figure(figsize=(12,10))\n",
    "df1.corr()['logerror'].sort_values(ascending = False)[1:].plot(kind='bar')\n",
    "plt.show()"
   ]
  },
  {
   "cell_type": "markdown",
   "metadata": {
    "heading_collapsed": true
   },
   "source": [
    "## From plotting the scatter plot we see that 1, the data is only populated for Ventura County and Los Angeles County. 2, there are only 51 examples of data. Log error does not seem to deviate too much."
   ]
  },
  {
   "cell_type": "code",
   "execution_count": 29,
   "metadata": {
    "hidden": true
   },
   "outputs": [
    {
     "data": {
      "image/png": "[encoded data removed]",
      "text/plain": [
       "<Figure size 432x288 with 1 Axes>"
      ]
     },
     "metadata": {
      "needs_background": "light"
     },
     "output_type": "display_data"
    },
    {
     "data": {
      "text/html": [
       "<div>\n",
       "<style scoped>\n",
       "    .dataframe tbody tr th:only-of-type {\n",
       "        vertical-align: middle;\n",
       "    }\n",
       "\n",
       "    .dataframe tbody tr th {\n",
       "        vertical-align: top;\n",
       "    }\n",
       "\n",
       "    .dataframe thead th {\n",
       "        text-align: right;\n",
       "    }\n",
       "</style>\n",
       "<table border=\"1\" class=\"dataframe\">\n",
       "  <thead>\n",
       "    <tr style=\"text-align: right;\">\n",
       "      <th></th>\n",
       "      <th>basementsqft</th>\n",
       "    </tr>\n",
       "    <tr>\n",
       "      <th>county</th>\n",
       "      <th></th>\n",
       "    </tr>\n",
       "  </thead>\n",
       "  <tbody>\n",
       "    <tr>\n",
       "      <th>Los Angeles County</th>\n",
       "      <td>4</td>\n",
       "    </tr>\n",
       "    <tr>\n",
       "      <th>Orange County</th>\n",
       "      <td>0</td>\n",
       "    </tr>\n",
       "    <tr>\n",
       "      <th>Ventura County</th>\n",
       "      <td>47</td>\n",
       "    </tr>\n",
       "  </tbody>\n",
       "</table>\n",
       "</div>"
      ],
      "text/plain": [
       "                    basementsqft\n",
       "county                          \n",
       "Los Angeles County             4\n",
       "Orange County                  0\n",
       "Ventura County                47"
      ]
     },
     "metadata": {},
     "output_type": "display_data"
    }
   ],
   "source": [
    "xvar = 'basementsqft'\n",
    "sns.scatterplot(x = 'basementsqft', y = 'logerror', hue = 'county', data = ray_df).set_title('log error vs basementsqft')\n",
    "plt.legend(bbox_to_anchor=(1.05, 1), loc=2, borderaxespad=0.)\n",
    "plt.xlabel(\"Basement Sq Ft\")\n",
    "plt.ylabel(\"Log Error\")\n",
    "plt.show()\n",
    "\n",
    "display(ray_df.groupby(['county'],axis = 0).count()[[xvar]])"
   ]
  },
  {
   "cell_type": "markdown",
   "metadata": {
    "heading_collapsed": true
   },
   "source": [
    "## From the plot below, we see something similar to above, so we can also drop this column."
   ]
  },
  {
   "cell_type": "code",
   "execution_count": 30,
   "metadata": {
    "hidden": true
   },
   "outputs": [
    {
     "data": {
      "image/png": "[encoded data removed]",
      "text/plain": [
       "<Figure size 432x288 with 1 Axes>"
      ]
     },
     "metadata": {
      "needs_background": "light"
     },
     "output_type": "display_data"
    },
    {
     "data": {
      "text/html": [
       "<div>\n",
       "<style scoped>\n",
       "    .dataframe tbody tr th:only-of-type {\n",
       "        vertical-align: middle;\n",
       "    }\n",
       "\n",
       "    .dataframe tbody tr th {\n",
       "        vertical-align: top;\n",
       "    }\n",
       "\n",
       "    .dataframe thead th {\n",
       "        text-align: right;\n",
       "    }\n",
       "</style>\n",
       "<table border=\"1\" class=\"dataframe\">\n",
       "  <thead>\n",
       "    <tr style=\"text-align: right;\">\n",
       "      <th></th>\n",
       "      <th>architecturalstyletypeid</th>\n",
       "    </tr>\n",
       "    <tr>\n",
       "      <th>county</th>\n",
       "      <th></th>\n",
       "    </tr>\n",
       "  </thead>\n",
       "  <tbody>\n",
       "    <tr>\n",
       "      <th>Los Angeles County</th>\n",
       "      <td>1</td>\n",
       "    </tr>\n",
       "    <tr>\n",
       "      <th>Orange County</th>\n",
       "      <td>182</td>\n",
       "    </tr>\n",
       "    <tr>\n",
       "      <th>Ventura County</th>\n",
       "      <td>0</td>\n",
       "    </tr>\n",
       "  </tbody>\n",
       "</table>\n",
       "</div>"
      ],
      "text/plain": [
       "                    architecturalstyletypeid\n",
       "county                                      \n",
       "Los Angeles County                         1\n",
       "Orange County                            182\n",
       "Ventura County                             0"
      ]
     },
     "metadata": {},
     "output_type": "display_data"
    }
   ],
   "source": [
    "xvar = 'architecturalstyletypeid'\n",
    "sns.scatterplot(x = 'architecturalstyletypeid', y = 'logerror', hue = 'county', data = ray_df).set_title('log error vs architecturalstyletypeid')\n",
    "plt.legend(bbox_to_anchor=(1.05, 1), loc=2, borderaxespad=0.)\n",
    "plt.xlabel(\"Architectural Style Type ID\")\n",
    "plt.ylabel(\"Log Error\")\n",
    "plt.show()\n",
    "\n",
    "display(ray_df.groupby(['county'],axis = 0).count()[[xvar]])"
   ]
  },
  {
   "cell_type": "code",
   "execution_count": 31,
   "metadata": {
    "hidden": true
   },
   "outputs": [
    {
     "data": {
      "image/png": "[encoded data removed]",
      "text/plain": [
       "<Figure size 864x720 with 1 Axes>"
      ]
     },
     "metadata": {
      "needs_background": "light"
     },
     "output_type": "display_data"
    }
   ],
   "source": [
    "# df2 - get Correlation of logerror with other variables:\n",
    "plt.figure(figsize=(12,10))\n",
    "df2.corr()['logerror'].sort_values(ascending = False)[1:].plot(kind='bar')\n",
    "plt.show()"
   ]
  },
  {
   "cell_type": "markdown",
   "metadata": {
    "heading_collapsed": true
   },
   "source": [
    "## Now looking at garage car counts, we see there's quite a bit of log error deviation around the 1-4 car garages, focused on Orange County and Ventura County. This presents an opportunity for an interaction feature multiplying the county categoricals with this garage cat count"
   ]
  },
  {
   "cell_type": "code",
   "execution_count": 32,
   "metadata": {
    "hidden": true
   },
   "outputs": [
    {
     "data": {
      "image/png": "[encoded data removed]",
      "text/plain": [
       "<Figure size 432x288 with 1 Axes>"
      ]
     },
     "metadata": {
      "needs_background": "light"
     },
     "output_type": "display_data"
    },
    {
     "data": {
      "text/html": [
       "<div>\n",
       "<style scoped>\n",
       "    .dataframe tbody tr th:only-of-type {\n",
       "        vertical-align: middle;\n",
       "    }\n",
       "\n",
       "    .dataframe tbody tr th {\n",
       "        vertical-align: top;\n",
       "    }\n",
       "\n",
       "    .dataframe thead th {\n",
       "        text-align: right;\n",
       "    }\n",
       "</style>\n",
       "<table border=\"1\" class=\"dataframe\">\n",
       "  <thead>\n",
       "    <tr style=\"text-align: right;\">\n",
       "      <th></th>\n",
       "      <th>garagecarcnt</th>\n",
       "    </tr>\n",
       "    <tr>\n",
       "      <th>county</th>\n",
       "      <th></th>\n",
       "    </tr>\n",
       "  </thead>\n",
       "  <tbody>\n",
       "    <tr>\n",
       "      <th>Los Angeles County</th>\n",
       "      <td>208</td>\n",
       "    </tr>\n",
       "    <tr>\n",
       "      <th>Orange County</th>\n",
       "      <td>20421</td>\n",
       "    </tr>\n",
       "    <tr>\n",
       "      <th>Ventura County</th>\n",
       "      <td>6798</td>\n",
       "    </tr>\n",
       "  </tbody>\n",
       "</table>\n",
       "</div>"
      ],
      "text/plain": [
       "                    garagecarcnt\n",
       "county                          \n",
       "Los Angeles County           208\n",
       "Orange County              20421\n",
       "Ventura County              6798"
      ]
     },
     "metadata": {},
     "output_type": "display_data"
    }
   ],
   "source": [
    "xvar = 'garagecarcnt'\n",
    "sns.scatterplot(x = 'garagecarcnt', y = 'logerror', hue = 'county', data = ray_df).set_title('log error vs garagecarcnt')\n",
    "plt.legend(bbox_to_anchor=(1.05, 1), loc=2, borderaxespad=0.)\n",
    "plt.xlabel(\"Garage Car Count\")\n",
    "plt.ylabel(\"Log Error\")\n",
    "plt.show()\n",
    "\n",
    "display(ray_df.groupby(['county'],axis = 0).count()[[xvar]])"
   ]
  },
  {
   "cell_type": "markdown",
   "metadata": {
    "heading_collapsed": true
   },
   "source": [
    "## Same with 1-2 fireplaces. Primarily around OC/VC. Same idea here."
   ]
  },
  {
   "cell_type": "code",
   "execution_count": 33,
   "metadata": {
    "hidden": true
   },
   "outputs": [
    {
     "data": {
      "image/png": "[encoded data removed]",
      "text/plain": [
       "<Figure size 432x288 with 1 Axes>"
      ]
     },
     "metadata": {
      "needs_background": "light"
     },
     "output_type": "display_data"
    },
    {
     "data": {
      "text/html": [
       "<div>\n",
       "<style scoped>\n",
       "    .dataframe tbody tr th:only-of-type {\n",
       "        vertical-align: middle;\n",
       "    }\n",
       "\n",
       "    .dataframe tbody tr th {\n",
       "        vertical-align: top;\n",
       "    }\n",
       "\n",
       "    .dataframe thead th {\n",
       "        text-align: right;\n",
       "    }\n",
       "</style>\n",
       "<table border=\"1\" class=\"dataframe\">\n",
       "  <thead>\n",
       "    <tr style=\"text-align: right;\">\n",
       "      <th></th>\n",
       "      <th>fireplacecnt</th>\n",
       "    </tr>\n",
       "    <tr>\n",
       "      <th>county</th>\n",
       "      <th></th>\n",
       "    </tr>\n",
       "  </thead>\n",
       "  <tbody>\n",
       "    <tr>\n",
       "      <th>Los Angeles County</th>\n",
       "      <td>83</td>\n",
       "    </tr>\n",
       "    <tr>\n",
       "      <th>Orange County</th>\n",
       "      <td>4657</td>\n",
       "    </tr>\n",
       "    <tr>\n",
       "      <th>Ventura County</th>\n",
       "      <td>5181</td>\n",
       "    </tr>\n",
       "  </tbody>\n",
       "</table>\n",
       "</div>"
      ],
      "text/plain": [
       "                    fireplacecnt\n",
       "county                          \n",
       "Los Angeles County            83\n",
       "Orange County               4657\n",
       "Ventura County              5181"
      ]
     },
     "metadata": {},
     "output_type": "display_data"
    }
   ],
   "source": [
    "sns.scatterplot(x = 'fireplacecnt', y = 'logerror', hue = 'county', data = ray_df).set_title('log error vs fireplacecnt')\n",
    "plt.legend(bbox_to_anchor=(1.05, 1), loc=2, borderaxespad=0.)\n",
    "plt.xlabel(\"Fire Place Count\")\n",
    "plt.ylabel(\"Log Error\")\n",
    "plt.show()\n",
    "\n",
    "display(ray_df.groupby(['county'],axis = 0).count()[['fireplacecnt']])"
   ]
  },
  {
   "cell_type": "markdown",
   "metadata": {
    "heading_collapsed": true
   },
   "source": [
    "##  Federal Information Processing Standard code. Every single home has a value. We see counties each have their own unique fips code... maybe some opportunity here. Also, should we remove those LA County with FIPS in 6110 and 6060? Can someone look into this.\n",
    "\n",
    "## AB - Looked into it. 6110 and 6060 are not valid FIPS codes. FIPS codes are just county IDs and we should be able to drop this column"
   ]
  },
  {
   "cell_type": "code",
   "execution_count": 34,
   "metadata": {
    "hidden": true
   },
   "outputs": [
    {
     "data": {
      "image/png": "[encoded data removed]",
      "text/plain": [
       "<Figure size 432x288 with 1 Axes>"
      ]
     },
     "metadata": {
      "needs_background": "light"
     },
     "output_type": "display_data"
    },
    {
     "data": {
      "text/html": [
       "<div>\n",
       "<style scoped>\n",
       "    .dataframe tbody tr th:only-of-type {\n",
       "        vertical-align: middle;\n",
       "    }\n",
       "\n",
       "    .dataframe tbody tr th {\n",
       "        vertical-align: top;\n",
       "    }\n",
       "\n",
       "    .dataframe thead th {\n",
       "        text-align: right;\n",
       "    }\n",
       "</style>\n",
       "<table border=\"1\" class=\"dataframe\">\n",
       "  <thead>\n",
       "    <tr style=\"text-align: right;\">\n",
       "      <th></th>\n",
       "      <th>fips</th>\n",
       "    </tr>\n",
       "    <tr>\n",
       "      <th>county</th>\n",
       "      <th></th>\n",
       "    </tr>\n",
       "  </thead>\n",
       "  <tbody>\n",
       "    <tr>\n",
       "      <th>Los Angeles County</th>\n",
       "      <td>59641</td>\n",
       "    </tr>\n",
       "    <tr>\n",
       "      <th>Orange County</th>\n",
       "      <td>22972</td>\n",
       "    </tr>\n",
       "    <tr>\n",
       "      <th>Ventura County</th>\n",
       "      <td>7535</td>\n",
       "    </tr>\n",
       "  </tbody>\n",
       "</table>\n",
       "</div>"
      ],
      "text/plain": [
       "                     fips\n",
       "county                   \n",
       "Los Angeles County  59641\n",
       "Orange County       22972\n",
       "Ventura County       7535"
      ]
     },
     "metadata": {},
     "output_type": "display_data"
    }
   ],
   "source": [
    "xvar = 'fips'\n",
    "sns.scatterplot(x = xvar, y = 'logerror', hue = 'county', data = ray_df).set_title('log error vs FIPS code')\n",
    "plt.legend(bbox_to_anchor=(1.05, 1), loc=2, borderaxespad=0.)\n",
    "plt.xlabel(xvar)\n",
    "plt.ylabel(\"Log Error\")\n",
    "plt.show()\n",
    "display(ray_df.groupby(['county'],axis = 0).count()[[xvar]])"
   ]
  },
  {
   "cell_type": "code",
   "execution_count": 35,
   "metadata": {
    "hidden": true
   },
   "outputs": [
    {
     "data": {
      "image/png": "[encoded data removed]",
      "text/plain": [
       "<Figure size 864x720 with 1 Axes>"
      ]
     },
     "metadata": {
      "needs_background": "light"
     },
     "output_type": "display_data"
    }
   ],
   "source": [
    "# df3 - get Correlation of logerror with other variables:\n",
    "plt.figure(figsize=(12,10))\n",
    "df3.corr()['logerror'].sort_values(ascending = False)[1:].plot(kind='bar')\n",
    "plt.show()"
   ]
  },
  {
   "cell_type": "markdown",
   "metadata": {
    "heading_collapsed": true
   },
   "source": [
    "## A lot of spread here, primarily OC/VC."
   ]
  },
  {
   "cell_type": "code",
   "execution_count": 36,
   "metadata": {
    "hidden": true
   },
   "outputs": [
    {
     "name": "stdout",
     "output_type": "stream",
     "text": [
      "27427\n"
     ]
    },
    {
     "data": {
      "image/png": "[encoded data removed]",
      "text/plain": [
       "<Figure size 432x288 with 1 Axes>"
      ]
     },
     "metadata": {
      "needs_background": "light"
     },
     "output_type": "display_data"
    },
    {
     "data": {
      "text/html": [
       "<div>\n",
       "<style scoped>\n",
       "    .dataframe tbody tr th:only-of-type {\n",
       "        vertical-align: middle;\n",
       "    }\n",
       "\n",
       "    .dataframe tbody tr th {\n",
       "        vertical-align: top;\n",
       "    }\n",
       "\n",
       "    .dataframe thead th {\n",
       "        text-align: right;\n",
       "    }\n",
       "</style>\n",
       "<table border=\"1\" class=\"dataframe\">\n",
       "  <thead>\n",
       "    <tr style=\"text-align: right;\">\n",
       "      <th></th>\n",
       "      <th>garagetotalsqft</th>\n",
       "    </tr>\n",
       "    <tr>\n",
       "      <th>county</th>\n",
       "      <th></th>\n",
       "    </tr>\n",
       "  </thead>\n",
       "  <tbody>\n",
       "    <tr>\n",
       "      <th>Los Angeles County</th>\n",
       "      <td>208</td>\n",
       "    </tr>\n",
       "    <tr>\n",
       "      <th>Orange County</th>\n",
       "      <td>20421</td>\n",
       "    </tr>\n",
       "    <tr>\n",
       "      <th>Ventura County</th>\n",
       "      <td>6798</td>\n",
       "    </tr>\n",
       "  </tbody>\n",
       "</table>\n",
       "</div>"
      ],
      "text/plain": [
       "                    garagetotalsqft\n",
       "county                             \n",
       "Los Angeles County              208\n",
       "Orange County                 20421\n",
       "Ventura County                 6798"
      ]
     },
     "metadata": {},
     "output_type": "display_data"
    }
   ],
   "source": [
    "xvar = 'garagetotalsqft'\n",
    "print(ray_df[xvar].count())\n",
    "sns.scatterplot(x = xvar, y = 'logerror', hue = 'county', data = ray_df).set_title('log error vs garagetotalsqft')\n",
    "plt.legend(bbox_to_anchor=(1.05, 1), loc=2, borderaxespad=0.)\n",
    "plt.xlabel(xvar)\n",
    "plt.ylabel(\"Log Error\")\n",
    "plt.show()\n",
    "#print(ray_df.groupby(['county','garagetotalsqft'],axis = 0).count()[['logerror']])\n",
    "display(ray_df.groupby(['county'],axis = 0).count()[[xvar]])"
   ]
  },
  {
   "cell_type": "markdown",
   "metadata": {
    "heading_collapsed": true
   },
   "source": [
    "## Poolsizesum doesn't contribute that much error, there are some outliers. We should investigate further why there's an outlier but doesn't have many records."
   ]
  },
  {
   "cell_type": "code",
   "execution_count": 37,
   "metadata": {
    "hidden": true
   },
   "outputs": [
    {
     "data": {
      "image/png": "[encoded data removed]",
      "text/plain": [
       "<Figure size 432x288 with 1 Axes>"
      ]
     },
     "metadata": {
      "needs_background": "light"
     },
     "output_type": "display_data"
    },
    {
     "data": {
      "text/html": [
       "<div>\n",
       "<style scoped>\n",
       "    .dataframe tbody tr th:only-of-type {\n",
       "        vertical-align: middle;\n",
       "    }\n",
       "\n",
       "    .dataframe tbody tr th {\n",
       "        vertical-align: top;\n",
       "    }\n",
       "\n",
       "    .dataframe thead th {\n",
       "        text-align: right;\n",
       "    }\n",
       "</style>\n",
       "<table border=\"1\" class=\"dataframe\">\n",
       "  <thead>\n",
       "    <tr style=\"text-align: right;\">\n",
       "      <th></th>\n",
       "      <th>poolsizesum</th>\n",
       "    </tr>\n",
       "    <tr>\n",
       "      <th>county</th>\n",
       "      <th></th>\n",
       "    </tr>\n",
       "  </thead>\n",
       "  <tbody>\n",
       "    <tr>\n",
       "      <th>Los Angeles County</th>\n",
       "      <td>12</td>\n",
       "    </tr>\n",
       "    <tr>\n",
       "      <th>Orange County</th>\n",
       "      <td>0</td>\n",
       "    </tr>\n",
       "    <tr>\n",
       "      <th>Ventura County</th>\n",
       "      <td>893</td>\n",
       "    </tr>\n",
       "  </tbody>\n",
       "</table>\n",
       "</div>"
      ],
      "text/plain": [
       "                    poolsizesum\n",
       "county                         \n",
       "Los Angeles County           12\n",
       "Orange County                 0\n",
       "Ventura County              893"
      ]
     },
     "metadata": {},
     "output_type": "display_data"
    }
   ],
   "source": [
    "xvar = 'poolsizesum'\n",
    "sns.scatterplot(x = xvar, y = 'logerror', hue = 'county', data = ray_df).set_title('log error vs poolsizesum')\n",
    "plt.legend(bbox_to_anchor=(1.05, 1), loc=2, borderaxespad=0.)\n",
    "plt.xlabel(xvar)\n",
    "plt.ylabel(\"Log Error\")\n",
    "plt.show()\n",
    "#print(ray_df.groupby(['county','garagetotalsqft'],axis = 0).count()[['logerror']])\n",
    "display(ray_df.groupby(['county'],axis = 0).count()[[xvar]])"
   ]
  },
  {
   "cell_type": "markdown",
   "metadata": {
    "heading_collapsed": true
   },
   "source": [
    "## This looks pretty important and a good categorical feature. We should actually figure out how we should treat these, this is more categorical than continuous."
   ]
  },
  {
   "cell_type": "code",
   "execution_count": 38,
   "metadata": {
    "hidden": true
   },
   "outputs": [
    {
     "data": {
      "image/png": "[encoded data removed]",
      "text/plain": [
       "<Figure size 432x288 with 1 Axes>"
      ]
     },
     "metadata": {
      "needs_background": "light"
     },
     "output_type": "display_data"
    },
    {
     "data": {
      "text/html": [
       "<div>\n",
       "<style scoped>\n",
       "    .dataframe tbody tr th:only-of-type {\n",
       "        vertical-align: middle;\n",
       "    }\n",
       "\n",
       "    .dataframe tbody tr th {\n",
       "        vertical-align: top;\n",
       "    }\n",
       "\n",
       "    .dataframe thead th {\n",
       "        text-align: right;\n",
       "    }\n",
       "</style>\n",
       "<table border=\"1\" class=\"dataframe\">\n",
       "  <thead>\n",
       "    <tr style=\"text-align: right;\">\n",
       "      <th></th>\n",
       "      <th>heatingorsystemtypeid</th>\n",
       "    </tr>\n",
       "    <tr>\n",
       "      <th>county</th>\n",
       "      <th></th>\n",
       "    </tr>\n",
       "  </thead>\n",
       "  <tbody>\n",
       "    <tr>\n",
       "      <th>Los Angeles County</th>\n",
       "      <td>51712</td>\n",
       "    </tr>\n",
       "    <tr>\n",
       "      <th>Orange County</th>\n",
       "      <td>2251</td>\n",
       "    </tr>\n",
       "    <tr>\n",
       "      <th>Ventura County</th>\n",
       "      <td>49</td>\n",
       "    </tr>\n",
       "  </tbody>\n",
       "</table>\n",
       "</div>"
      ],
      "text/plain": [
       "                    heatingorsystemtypeid\n",
       "county                                   \n",
       "Los Angeles County                  51712\n",
       "Orange County                        2251\n",
       "Ventura County                         49"
      ]
     },
     "metadata": {},
     "output_type": "display_data"
    }
   ],
   "source": [
    "xvar = 'heatingorsystemtypeid'\n",
    "sns.scatterplot(x = xvar, y = 'logerror', hue = 'county', data = ray_df).set_title('log error vs heatingorsystemtypeid')\n",
    "plt.legend(bbox_to_anchor=(1.05, 1), loc=2, borderaxespad=0.)\n",
    "plt.xlabel(xvar)\n",
    "plt.ylabel(\"Log Error\")\n",
    "plt.show()\n",
    "#print(ray_df.groupby(['county','garagetotalsqft'],axis = 0).count()[['logerror']])\n",
    "display(ray_df.groupby(['county'],axis = 0).count()[[xvar]])"
   ]
  },
  {
   "cell_type": "code",
   "execution_count": 39,
   "metadata": {
    "hidden": true
   },
   "outputs": [
    {
     "data": {
      "image/png": "[encoded data removed]",
      "text/plain": [
       "<Figure size 864x720 with 1 Axes>"
      ]
     },
     "metadata": {
      "needs_background": "light"
     },
     "output_type": "display_data"
    }
   ],
   "source": [
    "# df4 - get Correlation of logerror with other variables:\n",
    "plt.figure(figsize=(12,10))\n",
    "df4.corr()['logerror'].sort_values(ascending = False)[1:].plot(kind='bar')\n",
    "plt.show()"
   ]
  },
  {
   "cell_type": "markdown",
   "metadata": {
    "heading_collapsed": true
   },
   "source": [
    "## Huge amounts of error for LA with a room count of 0's (Studios)... Outlier of a place with 80+ rooms.... probably a bad data point.\n",
    "\n",
    "### AB - don't think it's a bad data point - I found at least two homes on Zillow that are 20 bed/25+ bath, so it seems reasonable they might have 80 total rooms"
   ]
  },
  {
   "cell_type": "code",
   "execution_count": 40,
   "metadata": {
    "hidden": true
   },
   "outputs": [
    {
     "data": {
      "image/png": "[encoded data removed]",
      "text/plain": [
       "<Figure size 432x288 with 1 Axes>"
      ]
     },
     "metadata": {
      "needs_background": "light"
     },
     "output_type": "display_data"
    },
    {
     "data": {
      "text/html": [
       "<div>\n",
       "<style scoped>\n",
       "    .dataframe tbody tr th:only-of-type {\n",
       "        vertical-align: middle;\n",
       "    }\n",
       "\n",
       "    .dataframe tbody tr th {\n",
       "        vertical-align: top;\n",
       "    }\n",
       "\n",
       "    .dataframe thead th {\n",
       "        text-align: right;\n",
       "    }\n",
       "</style>\n",
       "<table border=\"1\" class=\"dataframe\">\n",
       "  <thead>\n",
       "    <tr style=\"text-align: right;\">\n",
       "      <th></th>\n",
       "      <th>roomcnt</th>\n",
       "    </tr>\n",
       "    <tr>\n",
       "      <th>county</th>\n",
       "      <th></th>\n",
       "    </tr>\n",
       "  </thead>\n",
       "  <tbody>\n",
       "    <tr>\n",
       "      <th>Los Angeles County</th>\n",
       "      <td>59640</td>\n",
       "    </tr>\n",
       "    <tr>\n",
       "      <th>Orange County</th>\n",
       "      <td>22972</td>\n",
       "    </tr>\n",
       "    <tr>\n",
       "      <th>Ventura County</th>\n",
       "      <td>7535</td>\n",
       "    </tr>\n",
       "  </tbody>\n",
       "</table>\n",
       "</div>"
      ],
      "text/plain": [
       "                    roomcnt\n",
       "county                     \n",
       "Los Angeles County    59640\n",
       "Orange County         22972\n",
       "Ventura County         7535"
      ]
     },
     "metadata": {},
     "output_type": "display_data"
    }
   ],
   "source": [
    "xvar = 'roomcnt'\n",
    "sns.scatterplot(x = xvar, y = 'logerror', hue = 'county', data = ray_df).set_title('log error vs roomcnt')\n",
    "plt.legend(bbox_to_anchor=(1.05, 1), loc=2, borderaxespad=0.)\n",
    "plt.xlabel(xvar)\n",
    "plt.ylabel(\"Log Error\")\n",
    "plt.show()\n",
    "#print(ray_df.groupby(['county','garagetotalsqft'],axis = 0).count()[['logerror']])\n",
    "display(ray_df.groupby(['county'],axis = 0).count()[[xvar]])"
   ]
  },
  {
   "cell_type": "markdown",
   "metadata": {
    "heading_collapsed": true
   },
   "source": [
    "## Not really sure what this means.... probably not important\n",
    "\n",
    "### AB - 3/4 bath means it has a shower but not a tub. Probably could be added to the full bath count."
   ]
  },
  {
   "cell_type": "code",
   "execution_count": 41,
   "metadata": {
    "hidden": true
   },
   "outputs": [
    {
     "data": {
      "image/png": "[encoded data removed]",
      "text/plain": [
       "<Figure size 432x288 with 1 Axes>"
      ]
     },
     "metadata": {
      "needs_background": "light"
     },
     "output_type": "display_data"
    },
    {
     "data": {
      "text/html": [
       "<div>\n",
       "<style scoped>\n",
       "    .dataframe tbody tr th:only-of-type {\n",
       "        vertical-align: middle;\n",
       "    }\n",
       "\n",
       "    .dataframe tbody tr th {\n",
       "        vertical-align: top;\n",
       "    }\n",
       "\n",
       "    .dataframe thead th {\n",
       "        text-align: right;\n",
       "    }\n",
       "</style>\n",
       "<table border=\"1\" class=\"dataframe\">\n",
       "  <thead>\n",
       "    <tr style=\"text-align: right;\">\n",
       "      <th></th>\n",
       "      <th>threequarterbathnbr</th>\n",
       "    </tr>\n",
       "    <tr>\n",
       "      <th>county</th>\n",
       "      <th></th>\n",
       "    </tr>\n",
       "  </thead>\n",
       "  <tbody>\n",
       "    <tr>\n",
       "      <th>Los Angeles County</th>\n",
       "      <td>67</td>\n",
       "    </tr>\n",
       "    <tr>\n",
       "      <th>Orange County</th>\n",
       "      <td>7437</td>\n",
       "    </tr>\n",
       "    <tr>\n",
       "      <th>Ventura County</th>\n",
       "      <td>2164</td>\n",
       "    </tr>\n",
       "  </tbody>\n",
       "</table>\n",
       "</div>"
      ],
      "text/plain": [
       "                    threequarterbathnbr\n",
       "county                                 \n",
       "Los Angeles County                   67\n",
       "Orange County                      7437\n",
       "Ventura County                     2164"
      ]
     },
     "metadata": {},
     "output_type": "display_data"
    }
   ],
   "source": [
    "xvar = 'threequarterbathnbr'\n",
    "sns.scatterplot(x = xvar, y = 'logerror', hue = 'county', data = ray_df).set_title('log error vs threequarterbathnbr')\n",
    "plt.legend(bbox_to_anchor=(1.05, 1), loc=2, borderaxespad=0.)\n",
    "plt.xlabel(xvar)\n",
    "plt.ylabel(\"Log Error\")\n",
    "plt.show()\n",
    "#print(ray_df.groupby(['county','garagetotalsqft'],axis = 0).count()[['logerror']])\n",
    "display(ray_df.groupby(['county'],axis = 0).count()[[xvar]])"
   ]
  },
  {
   "cell_type": "code",
   "execution_count": 42,
   "metadata": {
    "hidden": true
   },
   "outputs": [
    {
     "data": {
      "image/png": "[encoded data removed]",
      "text/plain": [
       "<Figure size 864x720 with 1 Axes>"
      ]
     },
     "metadata": {
      "needs_background": "light"
     },
     "output_type": "display_data"
    }
   ],
   "source": [
    "# df5 - get Correlation of logerror with other variables:\n",
    "plt.figure(figsize=(12,10))\n",
    "df5.corr()['logerror'].sort_values(ascending = False)[1:].plot(kind='bar')\n",
    "plt.show()"
   ]
  },
  {
   "cell_type": "markdown",
   "metadata": {
    "heading_collapsed": true
   },
   "source": [
    "## Remove yardbuildingsqft26"
   ]
  },
  {
   "cell_type": "code",
   "execution_count": 43,
   "metadata": {
    "hidden": true
   },
   "outputs": [
    {
     "data": {
      "image/png": "[encoded data removed]",
      "text/plain": [
       "<Figure size 432x288 with 1 Axes>"
      ]
     },
     "metadata": {
      "needs_background": "light"
     },
     "output_type": "display_data"
    },
    {
     "data": {
      "text/html": [
       "<div>\n",
       "<style scoped>\n",
       "    .dataframe tbody tr th:only-of-type {\n",
       "        vertical-align: middle;\n",
       "    }\n",
       "\n",
       "    .dataframe tbody tr th {\n",
       "        vertical-align: top;\n",
       "    }\n",
       "\n",
       "    .dataframe thead th {\n",
       "        text-align: right;\n",
       "    }\n",
       "</style>\n",
       "<table border=\"1\" class=\"dataframe\">\n",
       "  <thead>\n",
       "    <tr style=\"text-align: right;\">\n",
       "      <th></th>\n",
       "      <th>yardbuildingsqft26</th>\n",
       "    </tr>\n",
       "    <tr>\n",
       "      <th>county</th>\n",
       "      <th></th>\n",
       "    </tr>\n",
       "  </thead>\n",
       "  <tbody>\n",
       "    <tr>\n",
       "      <th>Los Angeles County</th>\n",
       "      <td>1</td>\n",
       "    </tr>\n",
       "    <tr>\n",
       "      <th>Orange County</th>\n",
       "      <td>0</td>\n",
       "    </tr>\n",
       "    <tr>\n",
       "      <th>Ventura County</th>\n",
       "      <td>81</td>\n",
       "    </tr>\n",
       "  </tbody>\n",
       "</table>\n",
       "</div>"
      ],
      "text/plain": [
       "                    yardbuildingsqft26\n",
       "county                                \n",
       "Los Angeles County                   1\n",
       "Orange County                        0\n",
       "Ventura County                      81"
      ]
     },
     "metadata": {},
     "output_type": "display_data"
    }
   ],
   "source": [
    "xvar = 'yardbuildingsqft26'\n",
    "sns.scatterplot(x = xvar, y = 'logerror', hue = 'county', data = ray_df).set_title('log error vs yardbuildingsqft26')\n",
    "plt.legend(bbox_to_anchor=(1.05, 1), loc=2, borderaxespad=0.)\n",
    "plt.xlabel(xvar)\n",
    "plt.ylabel(\"Log Error\")\n",
    "plt.show()\n",
    "#print(ray_df.groupby(['county','garagetotalsqft'],axis = 0).count()[['logerror']])\n",
    "display(ray_df.groupby(['county'],axis = 0).count()[[xvar]])"
   ]
  },
  {
   "cell_type": "code",
   "execution_count": 44,
   "metadata": {
    "hidden": true
   },
   "outputs": [
    {
     "data": {
      "image/png": "[encoded data removed]",
      "text/plain": [
       "<Figure size 288x720 with 1 Axes>"
      ]
     },
     "metadata": {
      "needs_background": "light"
     },
     "output_type": "display_data"
    }
   ],
   "source": [
    "# df6 - get Correlation of logerror with other variables:\n",
    "plt.figure(figsize=(4,10))\n",
    "df6.corr()['logerror'].sort_values(ascending = False)[1:].plot(kind='bar')\n",
    "plt.show()"
   ]
  },
  {
   "cell_type": "markdown",
   "metadata": {
    "heading_collapsed": true
   },
   "source": [
    "## More recent the year, more logerror."
   ]
  },
  {
   "cell_type": "code",
   "execution_count": 45,
   "metadata": {
    "hidden": true
   },
   "outputs": [
    {
     "data": {
      "image/png": "[encoded data removed]",
      "text/plain": [
       "<Figure size 432x288 with 1 Axes>"
      ]
     },
     "metadata": {
      "needs_background": "light"
     },
     "output_type": "display_data"
    },
    {
     "data": {
      "text/html": [
       "<div>\n",
       "<style scoped>\n",
       "    .dataframe tbody tr th:only-of-type {\n",
       "        vertical-align: middle;\n",
       "    }\n",
       "\n",
       "    .dataframe tbody tr th {\n",
       "        vertical-align: top;\n",
       "    }\n",
       "\n",
       "    .dataframe thead th {\n",
       "        text-align: right;\n",
       "    }\n",
       "</style>\n",
       "<table border=\"1\" class=\"dataframe\">\n",
       "  <thead>\n",
       "    <tr style=\"text-align: right;\">\n",
       "      <th></th>\n",
       "      <th>taxdelinquencyyear</th>\n",
       "    </tr>\n",
       "    <tr>\n",
       "      <th>county</th>\n",
       "      <th></th>\n",
       "    </tr>\n",
       "  </thead>\n",
       "  <tbody>\n",
       "    <tr>\n",
       "      <th>Los Angeles County</th>\n",
       "      <td>1510</td>\n",
       "    </tr>\n",
       "    <tr>\n",
       "      <th>Orange County</th>\n",
       "      <td>190</td>\n",
       "    </tr>\n",
       "    <tr>\n",
       "      <th>Ventura County</th>\n",
       "      <td>40</td>\n",
       "    </tr>\n",
       "  </tbody>\n",
       "</table>\n",
       "</div>"
      ],
      "text/plain": [
       "                    taxdelinquencyyear\n",
       "county                                \n",
       "Los Angeles County                1510\n",
       "Orange County                      190\n",
       "Ventura County                      40"
      ]
     },
     "metadata": {},
     "output_type": "display_data"
    }
   ],
   "source": [
    "xvar = 'taxdelinquencyyear'\n",
    "sns.scatterplot(x = xvar, y = 'logerror', hue = 'county', data = ray_df).set_title('log error vs taxdelinquincyyear')\n",
    "plt.legend(bbox_to_anchor=(1.05, 1), loc=2, borderaxespad=0.)\n",
    "plt.xlabel(xvar)\n",
    "plt.ylabel(\"Log Error\")\n",
    "plt.show()\n",
    "#print(ray_df.groupby(['county','garagetotalsqft'],axis = 0).count()[['logerror']])\n",
    "display(ray_df.groupby(['county'],axis = 0).count()[[xvar]])"
   ]
  },
  {
   "cell_type": "code",
   "execution_count": 46,
   "metadata": {
    "hidden": true
   },
   "outputs": [
    {
     "data": {
      "image/png": "[encoded data removed]",
      "text/plain": [
       "<Figure size 432x720 with 1 Axes>"
      ]
     },
     "metadata": {
      "needs_background": "light"
     },
     "output_type": "display_data"
    }
   ],
   "source": [
    "plt.figure(figsize=(6,10))\n",
    "df_dummies_cat.corr()['logerror'].sort_values(ascending = False)[1:].plot(kind='bar')\n",
    "plt.show()"
   ]
  },
  {
   "cell_type": "markdown",
   "metadata": {
    "heading_collapsed": true
   },
   "source": [
    "## Los Angeles has the most log error and records."
   ]
  },
  {
   "cell_type": "code",
   "execution_count": 47,
   "metadata": {
    "hidden": true
   },
   "outputs": [
    {
     "data": {
      "image/png": "[encoded data removed]",
      "text/plain": [
       "<Figure size 432x288 with 1 Axes>"
      ]
     },
     "metadata": {
      "needs_background": "light"
     },
     "output_type": "display_data"
    },
    {
     "data": {
      "text/html": [
       "<div>\n",
       "<style scoped>\n",
       "    .dataframe tbody tr th:only-of-type {\n",
       "        vertical-align: middle;\n",
       "    }\n",
       "\n",
       "    .dataframe tbody tr th {\n",
       "        vertical-align: top;\n",
       "    }\n",
       "\n",
       "    .dataframe thead th {\n",
       "        text-align: right;\n",
       "    }\n",
       "</style>\n",
       "<table border=\"1\" class=\"dataframe\">\n",
       "  <thead>\n",
       "    <tr style=\"text-align: right;\">\n",
       "      <th></th>\n",
       "      <th>airconditioningtypeid</th>\n",
       "      <th>architecturalstyletypeid</th>\n",
       "      <th>basementsqft</th>\n",
       "      <th>bathroomcnt</th>\n",
       "      <th>bedroomcnt</th>\n",
       "      <th>buildingclasstypeid</th>\n",
       "      <th>buildingqualitytypeid</th>\n",
       "      <th>calculatedbathnbr</th>\n",
       "      <th>decktypeid</th>\n",
       "      <th>finishedfloor1squarefeet</th>\n",
       "      <th>...</th>\n",
       "      <th>landtaxvaluedollarcnt</th>\n",
       "      <th>taxamount</th>\n",
       "      <th>taxdelinquencyflag</th>\n",
       "      <th>taxdelinquencyyear</th>\n",
       "      <th>censustractandblock</th>\n",
       "      <th>logerror</th>\n",
       "      <th>transactiondate</th>\n",
       "      <th>latlng</th>\n",
       "      <th>city</th>\n",
       "      <th>county_city</th>\n",
       "    </tr>\n",
       "    <tr>\n",
       "      <th>county</th>\n",
       "      <th></th>\n",
       "      <th></th>\n",
       "      <th></th>\n",
       "      <th></th>\n",
       "      <th></th>\n",
       "      <th></th>\n",
       "      <th></th>\n",
       "      <th></th>\n",
       "      <th></th>\n",
       "      <th></th>\n",
       "      <th></th>\n",
       "      <th></th>\n",
       "      <th></th>\n",
       "      <th></th>\n",
       "      <th></th>\n",
       "      <th></th>\n",
       "      <th></th>\n",
       "      <th></th>\n",
       "      <th></th>\n",
       "      <th></th>\n",
       "      <th></th>\n",
       "    </tr>\n",
       "  </thead>\n",
       "  <tbody>\n",
       "    <tr>\n",
       "      <th>Los Angeles County</th>\n",
       "      <td>21352</td>\n",
       "      <td>1</td>\n",
       "      <td>4</td>\n",
       "      <td>59641</td>\n",
       "      <td>59641</td>\n",
       "      <td>440</td>\n",
       "      <td>57143</td>\n",
       "      <td>57714</td>\n",
       "      <td>14</td>\n",
       "      <td>70</td>\n",
       "      <td>...</td>\n",
       "      <td>58776</td>\n",
       "      <td>59381</td>\n",
       "      <td>1510</td>\n",
       "      <td>1510</td>\n",
       "      <td>57887</td>\n",
       "      <td>59641</td>\n",
       "      <td>59641</td>\n",
       "      <td>59641</td>\n",
       "      <td>59641</td>\n",
       "      <td>59641</td>\n",
       "    </tr>\n",
       "    <tr>\n",
       "      <th>Orange County</th>\n",
       "      <td>2907</td>\n",
       "      <td>182</td>\n",
       "      <td>0</td>\n",
       "      <td>22972</td>\n",
       "      <td>22972</td>\n",
       "      <td>0</td>\n",
       "      <td>754</td>\n",
       "      <td>21658</td>\n",
       "      <td>0</td>\n",
       "      <td>0</td>\n",
       "      <td>...</td>\n",
       "      <td>22311</td>\n",
       "      <td>22819</td>\n",
       "      <td>190</td>\n",
       "      <td>190</td>\n",
       "      <td>22668</td>\n",
       "      <td>22972</td>\n",
       "      <td>22972</td>\n",
       "      <td>22972</td>\n",
       "      <td>22972</td>\n",
       "      <td>22972</td>\n",
       "    </tr>\n",
       "    <tr>\n",
       "      <th>Ventura County</th>\n",
       "      <td>43</td>\n",
       "      <td>0</td>\n",
       "      <td>47</td>\n",
       "      <td>7535</td>\n",
       "      <td>7535</td>\n",
       "      <td>0</td>\n",
       "      <td>49</td>\n",
       "      <td>6926</td>\n",
       "      <td>558</td>\n",
       "      <td>6850</td>\n",
       "      <td>...</td>\n",
       "      <td>7225</td>\n",
       "      <td>7333</td>\n",
       "      <td>40</td>\n",
       "      <td>40</td>\n",
       "      <td>7405</td>\n",
       "      <td>7535</td>\n",
       "      <td>7535</td>\n",
       "      <td>7535</td>\n",
       "      <td>7535</td>\n",
       "      <td>7535</td>\n",
       "    </tr>\n",
       "  </tbody>\n",
       "</table>\n",
       "<p>3 rows × 62 columns</p>\n",
       "</div>"
      ],
      "text/plain": [
       "                    airconditioningtypeid  architecturalstyletypeid  \\\n",
       "county                                                                \n",
       "Los Angeles County                  21352                         1   \n",
       "Orange County                        2907                       182   \n",
       "Ventura County                         43                         0   \n",
       "\n",
       "                    basementsqft  bathroomcnt  bedroomcnt  \\\n",
       "county                                                      \n",
       "Los Angeles County             4        59641       59641   \n",
       "Orange County                  0        22972       22972   \n",
       "Ventura County                47         7535        7535   \n",
       "\n",
       "                    buildingclasstypeid  buildingqualitytypeid  \\\n",
       "county                                                           \n",
       "Los Angeles County                  440                  57143   \n",
       "Orange County                         0                    754   \n",
       "Ventura County                        0                     49   \n",
       "\n",
       "                    calculatedbathnbr  decktypeid  finishedfloor1squarefeet  \\\n",
       "county                                                                        \n",
       "Los Angeles County              57714          14                        70   \n",
       "Orange County                   21658           0                         0   \n",
       "Ventura County                   6926         558                      6850   \n",
       "\n",
       "                    ...  landtaxvaluedollarcnt  taxamount  taxdelinquencyflag  \\\n",
       "county              ...                                                         \n",
       "Los Angeles County  ...                  58776      59381                1510   \n",
       "Orange County       ...                  22311      22819                 190   \n",
       "Ventura County      ...                   7225       7333                  40   \n",
       "\n",
       "                    taxdelinquencyyear  censustractandblock  logerror  \\\n",
       "county                                                                  \n",
       "Los Angeles County                1510                57887     59641   \n",
       "Orange County                      190                22668     22972   \n",
       "Ventura County                      40                 7405      7535   \n",
       "\n",
       "                    transactiondate  latlng   city  county_city  \n",
       "county                                                           \n",
       "Los Angeles County            59641   59641  59641        59641  \n",
       "Orange County                 22972   22972  22972        22972  \n",
       "Ventura County                 7535    7535   7535         7535  \n",
       "\n",
       "[3 rows x 62 columns]"
      ]
     },
     "metadata": {},
     "output_type": "display_data"
    }
   ],
   "source": [
    "xvar = 'county'\n",
    "sns.scatterplot(x = xvar, y = 'logerror', hue = 'county', data = ray_df).set_title('log error vs county')\n",
    "plt.legend(bbox_to_anchor=(1.05, 1), loc=2, borderaxespad=0.)\n",
    "plt.xlabel(xvar)\n",
    "plt.ylabel(\"Log Error\")\n",
    "plt.show()\n",
    "#print(ray_df.groupby(['county','garagetotalsqft'],axis = 0).count()[['logerror']])\n",
    "display(ray_df.groupby(['county'], axis = 0).count())"
   ]
  },
  {
   "cell_type": "markdown",
   "metadata": {},
   "source": [
    "# Drop columns"
   ]
  },
  {
   "cell_type": "markdown",
   "metadata": {},
   "source": [
    "## Fix the things we know we should do"
   ]
  },
  {
   "cell_type": "code",
   "execution_count": 13,
   "metadata": {},
   "outputs": [],
   "source": [
    "# drop columns that are duplicative\n",
    "#      FIPS - described by county\n",
    "#      storytypeid - only ever set to 7-basement; fully represented by the basementsqft column\n",
    "\n",
    "combined_df.drop(labels=['storytypeid','fips'], axis=1,inplace=True)"
   ]
  },
  {
   "cell_type": "code",
   "execution_count": 19,
   "metadata": {},
   "outputs": [],
   "source": [
    "#combined_df.dtypes.transpose()"
   ]
  },
  {
   "cell_type": "code",
   "execution_count": 14,
   "metadata": {},
   "outputs": [],
   "source": [
    "# standardize and convert data to 1 or 0\n",
    "def convert_yn(x):\n",
    "    if x in ['True','Y']:\n",
    "        return 1\n",
    "    return 0"
   ]
  },
  {
   "cell_type": "code",
   "execution_count": 15,
   "metadata": {},
   "outputs": [],
   "source": [
    "for col in ['hashottuborspa','taxdelinquencyflag','fireplaceflag']:\n",
    "    combined_df[col] = combined_df[col].astype('str').map(convert_yn)"
   ]
  },
  {
   "cell_type": "markdown",
   "metadata": {},
   "source": [
    "## Filter down dataset to just non-categorical values\n",
    "### Amy to Ray: I'm filtering out the categorical variables here since I figured I'd leave those for you to analyze separately"
   ]
  },
  {
   "cell_type": "code",
   "execution_count": 16,
   "metadata": {},
   "outputs": [],
   "source": [
    "# Filter down to just the columns w/numeric values\n",
    "# Some of these are actually categorical. Leave for Ray to analyze\n",
    "numeric_df = combined_df.select_dtypes(include=['float64','int64']).drop(labels=['airconditioningtypeid','architecturalstyletypeid','buildingclasstypeid',\n",
    "                        'buildingqualitytypeid', 'heatingorsystemtypeid', 'latitude', 'longitude',\n",
    "                       'propertylandusetypeid','rawcensustractandblock','regionidcity','regionidcounty',\n",
    "                        'regionidneighborhood','regionidzip','typeconstructiontypeid','censustractandblock',\n",
    "                        'bathroomcnt','bedroomcnt','assessmentyear', 'roomcnt', 'hashottuborspa',\n",
    "                        'taxdelinquencyflag','fireplaceflag'], axis=1)"
   ]
  },
  {
   "cell_type": "code",
   "execution_count": 17,
   "metadata": {},
   "outputs": [],
   "source": [
    "def analyze_cols(df):\n",
    "    \"\"\" Takes a data frame and for each column calculates the mean and standard \n",
    "        deviation of absolute logerror for listings with this home populated \n",
    "        as well as without this home populated.\n",
    "        \n",
    "        Performs a two-tailed independent t-test to determine if the listings with \n",
    "        this column populated have a different logerror than those without it populated.\n",
    "        \n",
    "        Returns a dataframe with all values for each column\n",
    "    \"\"\"\n",
    "    out_list = []\n",
    "    for col in df.columns:\n",
    "        if col == \"logerror\":\n",
    "            continue\n",
    "            \n",
    "        my_dict = {}\n",
    "        \n",
    "        # Split the df based on whether the col is populated and just keep absolute value of logerror\n",
    "        pop_df = np.abs(df[(df[col].notna())]['logerror'])\n",
    "        nan_df = np.abs(df[(df[col].isnull())]['logerror'])\n",
    "\n",
    "        # Print out the mean and st dev logerror\n",
    "        my_dict[\"col\"] = col\n",
    "        my_dict[\"n\"] = pop_df.shape[0]\n",
    "        my_dict[\"mean_pop\"] = pop_df.mean()\n",
    "        my_dict[\"std_pop\"] = pop_df.std()\n",
    "        my_dict[\"mean_nan\"] = nan_df.mean()\n",
    "        my_dict[\"std_nan\"] = nan_df.std()\n",
    "        my_dict['p_val'] = stats.ttest_ind(pop_df,nan_df).pvalue\n",
    "        \n",
    "        out_list.append(my_dict)\n",
    "        \n",
    "    return pd.DataFrame(out_list)[['col','n','mean_pop','mean_nan','std_pop','std_nan','p_val']].sort_values(by=\"n\").set_index('col')"
   ]
  },
  {
   "cell_type": "code",
   "execution_count": 18,
   "metadata": {},
   "outputs": [
    {
     "data": {
      "text/html": [
       "<div>\n",
       "<style scoped>\n",
       "    .dataframe tbody tr th:only-of-type {\n",
       "        vertical-align: middle;\n",
       "    }\n",
       "\n",
       "    .dataframe tbody tr th {\n",
       "        vertical-align: top;\n",
       "    }\n",
       "\n",
       "    .dataframe thead th {\n",
       "        text-align: right;\n",
       "    }\n",
       "</style>\n",
       "<table border=\"1\" class=\"dataframe\">\n",
       "  <thead>\n",
       "    <tr style=\"text-align: right;\">\n",
       "      <th></th>\n",
       "      <th>n</th>\n",
       "      <th>mean_pop</th>\n",
       "      <th>mean_nan</th>\n",
       "      <th>std_pop</th>\n",
       "      <th>std_nan</th>\n",
       "      <th>p_val</th>\n",
       "    </tr>\n",
       "    <tr>\n",
       "      <th>col</th>\n",
       "      <th></th>\n",
       "      <th></th>\n",
       "      <th></th>\n",
       "      <th></th>\n",
       "      <th></th>\n",
       "      <th></th>\n",
       "    </tr>\n",
       "  </thead>\n",
       "  <tbody>\n",
       "    <tr>\n",
       "      <th>basementsqft</th>\n",
       "      <td>51</td>\n",
       "      <td>0.065247</td>\n",
       "      <td>0.068440</td>\n",
       "      <td>0.110930</td>\n",
       "      <td>0.146256</td>\n",
       "      <td>0.876114</td>\n",
       "    </tr>\n",
       "    <tr>\n",
       "      <th>yardbuildingsqft26</th>\n",
       "      <td>82</td>\n",
       "      <td>0.059695</td>\n",
       "      <td>0.068447</td>\n",
       "      <td>0.171019</td>\n",
       "      <td>0.146214</td>\n",
       "      <td>0.588057</td>\n",
       "    </tr>\n",
       "    <tr>\n",
       "      <th>finishedsquarefeet13</th>\n",
       "      <td>249</td>\n",
       "      <td>0.068342</td>\n",
       "      <td>0.068439</td>\n",
       "      <td>0.100739</td>\n",
       "      <td>0.146345</td>\n",
       "      <td>0.991657</td>\n",
       "    </tr>\n",
       "    <tr>\n",
       "      <th>decktypeid</th>\n",
       "      <td>572</td>\n",
       "      <td>0.077908</td>\n",
       "      <td>0.068378</td>\n",
       "      <td>0.158115</td>\n",
       "      <td>0.146158</td>\n",
       "      <td>0.120260</td>\n",
       "    </tr>\n",
       "    <tr>\n",
       "      <th>finishedsquarefeet6</th>\n",
       "      <td>658</td>\n",
       "      <td>0.058308</td>\n",
       "      <td>0.068513</td>\n",
       "      <td>0.099169</td>\n",
       "      <td>0.146526</td>\n",
       "      <td>0.074509</td>\n",
       "    </tr>\n",
       "    <tr>\n",
       "      <th>poolsizesum</th>\n",
       "      <td>905</td>\n",
       "      <td>0.070720</td>\n",
       "      <td>0.068415</td>\n",
       "      <td>0.161899</td>\n",
       "      <td>0.146071</td>\n",
       "      <td>0.637176</td>\n",
       "    </tr>\n",
       "    <tr>\n",
       "      <th>pooltypeid2</th>\n",
       "      <td>969</td>\n",
       "      <td>0.068871</td>\n",
       "      <td>0.068434</td>\n",
       "      <td>0.130858</td>\n",
       "      <td>0.146397</td>\n",
       "      <td>0.926259</td>\n",
       "    </tr>\n",
       "    <tr>\n",
       "      <th>pooltypeid10</th>\n",
       "      <td>1053</td>\n",
       "      <td>0.066811</td>\n",
       "      <td>0.068458</td>\n",
       "      <td>0.119985</td>\n",
       "      <td>0.146521</td>\n",
       "      <td>0.716339</td>\n",
       "    </tr>\n",
       "    <tr>\n",
       "      <th>taxdelinquencyyear</th>\n",
       "      <td>1740</td>\n",
       "      <td>0.072253</td>\n",
       "      <td>0.068363</td>\n",
       "      <td>0.142779</td>\n",
       "      <td>0.146305</td>\n",
       "      <td>0.271946</td>\n",
       "    </tr>\n",
       "    <tr>\n",
       "      <th>yardbuildingsqft17</th>\n",
       "      <td>2769</td>\n",
       "      <td>0.073399</td>\n",
       "      <td>0.068281</td>\n",
       "      <td>0.155449</td>\n",
       "      <td>0.145935</td>\n",
       "      <td>0.069812</td>\n",
       "    </tr>\n",
       "    <tr>\n",
       "      <th>finishedsquarefeet15</th>\n",
       "      <td>5648</td>\n",
       "      <td>0.067469</td>\n",
       "      <td>0.068503</td>\n",
       "      <td>0.132968</td>\n",
       "      <td>0.147083</td>\n",
       "      <td>0.606700</td>\n",
       "    </tr>\n",
       "    <tr>\n",
       "      <th>finishedsquarefeet50</th>\n",
       "      <td>6920</td>\n",
       "      <td>0.073941</td>\n",
       "      <td>0.067981</td>\n",
       "      <td>0.157966</td>\n",
       "      <td>0.145212</td>\n",
       "      <td>0.001124</td>\n",
       "    </tr>\n",
       "    <tr>\n",
       "      <th>finishedfloor1squarefeet</th>\n",
       "      <td>6920</td>\n",
       "      <td>0.073941</td>\n",
       "      <td>0.067981</td>\n",
       "      <td>0.157966</td>\n",
       "      <td>0.145212</td>\n",
       "      <td>0.001124</td>\n",
       "    </tr>\n",
       "    <tr>\n",
       "      <th>threequarterbathnbr</th>\n",
       "      <td>9668</td>\n",
       "      <td>0.070884</td>\n",
       "      <td>0.068145</td>\n",
       "      <td>0.153646</td>\n",
       "      <td>0.145321</td>\n",
       "      <td>0.081879</td>\n",
       "    </tr>\n",
       "    <tr>\n",
       "      <th>fireplacecnt</th>\n",
       "      <td>9921</td>\n",
       "      <td>0.068962</td>\n",
       "      <td>0.068374</td>\n",
       "      <td>0.139306</td>\n",
       "      <td>0.147073</td>\n",
       "      <td>0.705397</td>\n",
       "    </tr>\n",
       "    <tr>\n",
       "      <th>pooltypeid7</th>\n",
       "      <td>14628</td>\n",
       "      <td>0.067877</td>\n",
       "      <td>0.068547</td>\n",
       "      <td>0.149115</td>\n",
       "      <td>0.145675</td>\n",
       "      <td>0.611933</td>\n",
       "    </tr>\n",
       "    <tr>\n",
       "      <th>poolcnt</th>\n",
       "      <td>15597</td>\n",
       "      <td>0.067939</td>\n",
       "      <td>0.068543</td>\n",
       "      <td>0.148043</td>\n",
       "      <td>0.145859</td>\n",
       "      <td>0.638886</td>\n",
       "    </tr>\n",
       "    <tr>\n",
       "      <th>numberofstories</th>\n",
       "      <td>21400</td>\n",
       "      <td>0.069377</td>\n",
       "      <td>0.068146</td>\n",
       "      <td>0.143401</td>\n",
       "      <td>0.147110</td>\n",
       "      <td>0.282311</td>\n",
       "    </tr>\n",
       "    <tr>\n",
       "      <th>garagetotalsqft</th>\n",
       "      <td>27427</td>\n",
       "      <td>0.069345</td>\n",
       "      <td>0.068042</td>\n",
       "      <td>0.144759</td>\n",
       "      <td>0.146880</td>\n",
       "      <td>0.218564</td>\n",
       "    </tr>\n",
       "    <tr>\n",
       "      <th>garagecarcnt</th>\n",
       "      <td>27427</td>\n",
       "      <td>0.069345</td>\n",
       "      <td>0.068042</td>\n",
       "      <td>0.144759</td>\n",
       "      <td>0.146880</td>\n",
       "      <td>0.218564</td>\n",
       "    </tr>\n",
       "    <tr>\n",
       "      <th>unitcnt</th>\n",
       "      <td>59113</td>\n",
       "      <td>0.068036</td>\n",
       "      <td>0.069205</td>\n",
       "      <td>0.146906</td>\n",
       "      <td>0.144957</td>\n",
       "      <td>0.254428</td>\n",
       "    </tr>\n",
       "    <tr>\n",
       "      <th>lotsizesquarefeet</th>\n",
       "      <td>81890</td>\n",
       "      <td>0.068359</td>\n",
       "      <td>0.069229</td>\n",
       "      <td>0.144985</td>\n",
       "      <td>0.158137</td>\n",
       "      <td>0.606083</td>\n",
       "    </tr>\n",
       "    <tr>\n",
       "      <th>finishedsquarefeet12</th>\n",
       "      <td>82228</td>\n",
       "      <td>0.068622</td>\n",
       "      <td>0.066533</td>\n",
       "      <td>0.147571</td>\n",
       "      <td>0.131595</td>\n",
       "      <td>0.224718</td>\n",
       "    </tr>\n",
       "    <tr>\n",
       "      <th>fullbathcnt</th>\n",
       "      <td>86298</td>\n",
       "      <td>0.068413</td>\n",
       "      <td>0.069002</td>\n",
       "      <td>0.146352</td>\n",
       "      <td>0.143684</td>\n",
       "      <td>0.806946</td>\n",
       "    </tr>\n",
       "    <tr>\n",
       "      <th>calculatedbathnbr</th>\n",
       "      <td>86298</td>\n",
       "      <td>0.068413</td>\n",
       "      <td>0.069002</td>\n",
       "      <td>0.146352</td>\n",
       "      <td>0.143684</td>\n",
       "      <td>0.806946</td>\n",
       "    </tr>\n",
       "    <tr>\n",
       "      <th>landtaxvaluedollarcnt</th>\n",
       "      <td>88312</td>\n",
       "      <td>0.068379</td>\n",
       "      <td>0.071317</td>\n",
       "      <td>0.146172</td>\n",
       "      <td>0.149398</td>\n",
       "      <td>0.394158</td>\n",
       "    </tr>\n",
       "    <tr>\n",
       "      <th>yearbuilt</th>\n",
       "      <td>88646</td>\n",
       "      <td>0.068481</td>\n",
       "      <td>0.065908</td>\n",
       "      <td>0.146328</td>\n",
       "      <td>0.140860</td>\n",
       "      <td>0.498910</td>\n",
       "    </tr>\n",
       "    <tr>\n",
       "      <th>structuretaxvaluedollarcnt</th>\n",
       "      <td>88686</td>\n",
       "      <td>0.068447</td>\n",
       "      <td>0.067919</td>\n",
       "      <td>0.146442</td>\n",
       "      <td>0.133332</td>\n",
       "      <td>0.891025</td>\n",
       "    </tr>\n",
       "    <tr>\n",
       "      <th>calculatedfinishedsquarefeet</th>\n",
       "      <td>88783</td>\n",
       "      <td>0.068471</td>\n",
       "      <td>0.066297</td>\n",
       "      <td>0.146274</td>\n",
       "      <td>0.143953</td>\n",
       "      <td>0.585652</td>\n",
       "    </tr>\n",
       "    <tr>\n",
       "      <th>taxvaluedollarcnt</th>\n",
       "      <td>89080</td>\n",
       "      <td>0.068404</td>\n",
       "      <td>0.071356</td>\n",
       "      <td>0.146266</td>\n",
       "      <td>0.143925</td>\n",
       "      <td>0.511912</td>\n",
       "    </tr>\n",
       "    <tr>\n",
       "      <th>taxamount</th>\n",
       "      <td>89533</td>\n",
       "      <td>0.068481</td>\n",
       "      <td>0.062270</td>\n",
       "      <td>0.146340</td>\n",
       "      <td>0.130518</td>\n",
       "      <td>0.293911</td>\n",
       "    </tr>\n",
       "  </tbody>\n",
       "</table>\n",
       "</div>"
      ],
      "text/plain": [
       "                                  n  mean_pop  mean_nan   std_pop   std_nan  \\\n",
       "col                                                                           \n",
       "basementsqft                     51  0.065247  0.068440  0.110930  0.146256   \n",
       "yardbuildingsqft26               82  0.059695  0.068447  0.171019  0.146214   \n",
       "finishedsquarefeet13            249  0.068342  0.068439  0.100739  0.146345   \n",
       "decktypeid                      572  0.077908  0.068378  0.158115  0.146158   \n",
       "finishedsquarefeet6             658  0.058308  0.068513  0.099169  0.146526   \n",
       "poolsizesum                     905  0.070720  0.068415  0.161899  0.146071   \n",
       "pooltypeid2                     969  0.068871  0.068434  0.130858  0.146397   \n",
       "pooltypeid10                   1053  0.066811  0.068458  0.119985  0.146521   \n",
       "taxdelinquencyyear             1740  0.072253  0.068363  0.142779  0.146305   \n",
       "yardbuildingsqft17             2769  0.073399  0.068281  0.155449  0.145935   \n",
       "finishedsquarefeet15           5648  0.067469  0.068503  0.132968  0.147083   \n",
       "finishedsquarefeet50           6920  0.073941  0.067981  0.157966  0.145212   \n",
       "finishedfloor1squarefeet       6920  0.073941  0.067981  0.157966  0.145212   \n",
       "threequarterbathnbr            9668  0.070884  0.068145  0.153646  0.145321   \n",
       "fireplacecnt                   9921  0.068962  0.068374  0.139306  0.147073   \n",
       "pooltypeid7                   14628  0.067877  0.068547  0.149115  0.145675   \n",
       "poolcnt                       15597  0.067939  0.068543  0.148043  0.145859   \n",
       "numberofstories               21400  0.069377  0.068146  0.143401  0.147110   \n",
       "garagetotalsqft               27427  0.069345  0.068042  0.144759  0.146880   \n",
       "garagecarcnt                  27427  0.069345  0.068042  0.144759  0.146880   \n",
       "unitcnt                       59113  0.068036  0.069205  0.146906  0.144957   \n",
       "lotsizesquarefeet             81890  0.068359  0.069229  0.144985  0.158137   \n",
       "finishedsquarefeet12          82228  0.068622  0.066533  0.147571  0.131595   \n",
       "fullbathcnt                   86298  0.068413  0.069002  0.146352  0.143684   \n",
       "calculatedbathnbr             86298  0.068413  0.069002  0.146352  0.143684   \n",
       "landtaxvaluedollarcnt         88312  0.068379  0.071317  0.146172  0.149398   \n",
       "yearbuilt                     88646  0.068481  0.065908  0.146328  0.140860   \n",
       "structuretaxvaluedollarcnt    88686  0.068447  0.067919  0.146442  0.133332   \n",
       "calculatedfinishedsquarefeet  88783  0.068471  0.066297  0.146274  0.143953   \n",
       "taxvaluedollarcnt             89080  0.068404  0.071356  0.146266  0.143925   \n",
       "taxamount                     89533  0.068481  0.062270  0.146340  0.130518   \n",
       "\n",
       "                                 p_val  \n",
       "col                                     \n",
       "basementsqft                  0.876114  \n",
       "yardbuildingsqft26            0.588057  \n",
       "finishedsquarefeet13          0.991657  \n",
       "decktypeid                    0.120260  \n",
       "finishedsquarefeet6           0.074509  \n",
       "poolsizesum                   0.637176  \n",
       "pooltypeid2                   0.926259  \n",
       "pooltypeid10                  0.716339  \n",
       "taxdelinquencyyear            0.271946  \n",
       "yardbuildingsqft17            0.069812  \n",
       "finishedsquarefeet15          0.606700  \n",
       "finishedsquarefeet50          0.001124  \n",
       "finishedfloor1squarefeet      0.001124  \n",
       "threequarterbathnbr           0.081879  \n",
       "fireplacecnt                  0.705397  \n",
       "pooltypeid7                   0.611933  \n",
       "poolcnt                       0.638886  \n",
       "numberofstories               0.282311  \n",
       "garagetotalsqft               0.218564  \n",
       "garagecarcnt                  0.218564  \n",
       "unitcnt                       0.254428  \n",
       "lotsizesquarefeet             0.606083  \n",
       "finishedsquarefeet12          0.224718  \n",
       "fullbathcnt                   0.806946  \n",
       "calculatedbathnbr             0.806946  \n",
       "landtaxvaluedollarcnt         0.394158  \n",
       "yearbuilt                     0.498910  \n",
       "structuretaxvaluedollarcnt    0.891025  \n",
       "calculatedfinishedsquarefeet  0.585652  \n",
       "taxvaluedollarcnt             0.511912  \n",
       "taxamount                     0.293911  "
      ]
     },
     "execution_count": 18,
     "metadata": {},
     "output_type": "execute_result"
    }
   ],
   "source": [
    "analyze_cols(numeric_df)"
   ]
  },
  {
   "cell_type": "markdown",
   "metadata": {},
   "source": [
    "## <font color=red>Based on the output, I would suggest dropping columns that are less than 5% populated (n < 4,507) AND have a p-value > 0.5.</font>\n",
    "\n",
    "This would mean dropping: basementsqft, yardbuildingsqft26, finishedsquarefeet13, poolsizesum, pooltypeid2, pooltypeid10"
   ]
  },
  {
   "cell_type": "markdown",
   "metadata": {
    "heading_collapsed": true
   },
   "source": [
    "## Save normalization/interoplation for after we analyze which columns have the most variation"
   ]
  },
  {
   "cell_type": "code",
   "execution_count": 51,
   "metadata": {
    "hidden": true
   },
   "outputs": [],
   "source": [
    "# interpolate missing values for the following columns\n",
    "#interpolate_columns = ['structuretaxvaluedollarcnt', 'taxvaluedollarcnt', \\\n",
    "#                      'landtaxvaluedollarcnt', 'taxamount', 'lotsizesquarefeet', \\\n",
    "#                      'garagetotalsqft']\n",
    "\n",
    "# default interpolation method is linear, let's just stick with that\n",
    "#for column in interpolate_columns:\n",
    "#    combined_df[column].interpolate(inplace=True)"
   ]
  },
  {
   "cell_type": "code",
   "execution_count": 52,
   "metadata": {
    "hidden": true
   },
   "outputs": [],
   "source": [
    "# Commenting out for now - will normalize instead of using log transform\n",
    "# transform columns with very large st dev to log\n",
    "#log_transform_columns = ['structuretaxvaluedollarcnt', 'taxvaluedollarcnt', 'landtaxvaluedollarcnt', \\\n",
    "#                        'taxamount', 'lotsizesquarefeet']\n",
    "\n",
    "#eps = 1e-6\n",
    "#for column in log_transform_columns:\n",
    "#    combined_df[column] = np.log10(combined_df[column] + eps)\n"
   ]
  },
  {
   "cell_type": "code",
   "execution_count": 53,
   "metadata": {
    "hidden": true
   },
   "outputs": [],
   "source": [
    "# normalize continuous variables\n",
    "#normalize_columns = ['calculatedfinishedsquarefeet', 'finishedsquarefeet12', 'garagetotalsqft', \\\n",
    "#                     'lotsizesquarefeet', 'poolsizesum', 'yardbuildingsqft17', \\\n",
    "#                    'structuretaxvaluedollarcnt', 'taxvaluedollarcnt', 'landtaxvaluedollarcnt',\n",
    "#                    'taxamount']\n",
    "\n",
    "\n",
    "#for column in normalize_columns:\n",
    "#    combined_df[column] = (combined_df[column] - combined_df[column].mean()) / combined_df[column].std()"
   ]
  },
  {
   "cell_type": "markdown",
   "metadata": {},
   "source": [
    "## Train Data EDA"
   ]
  },
  {
   "cell_type": "markdown",
   "metadata": {},
   "source": [
    "## Transaction Counts and Avg logerror by Month"
   ]
  },
  {
   "cell_type": "code",
   "execution_count": 82,
   "metadata": {},
   "outputs": [
    {
     "data": {
      "image/png": "[encoded data removed]",
      "text/plain": [
       "<Figure size 432x288 with 1 Axes>"
      ]
     },
     "metadata": {
      "needs_background": "light"
     },
     "output_type": "display_data"
    },
    {
     "data": {
      "image/png": "[encoded data removed]",
      "text/plain": [
       "<Figure size 432x288 with 1 Axes>"
      ]
     },
     "metadata": {
      "needs_background": "light"
     },
     "output_type": "display_data"
    }
   ],
   "source": [
    "# plot logerrors over time\n",
    "plt_df = combined_df[['transactiondate','logerror']].copy()\n",
    "plt_df['transactiondate'] = plt_df.transactiondate#.astype('datetime64[M]')\n",
    "plt_df['logerror'] = np.abs(plt_df.logerror)\n",
    "g = plt_df.groupby(['transactiondate']).mean()\n",
    "g.plot()\n",
    "plt.title(\"Mean abs(logerror) vs Transaction Date\")\n",
    "plt.show()\n",
    "plt.hist(plt_df.transactiondate,bins=52)\n",
    "plt.title(\"Number of Transactions by Week\")\n",
    "plt.show()"
   ]
  },
  {
   "cell_type": "markdown",
   "metadata": {},
   "source": [
    "## <font color=red> This is the start of feature exploration, selection, and engineering... </font>"
   ]
  },
  {
   "cell_type": "markdown",
   "metadata": {},
   "source": [
    "## Split dataset into train, dev, and test and filter to July 2016"
   ]
  },
  {
   "cell_type": "code",
   "execution_count": 19,
   "metadata": {},
   "outputs": [],
   "source": [
    "# Set the columns to filter out of the dataset here\n",
    "excl_cols = ['basementsqft', 'yardbuildingsqft26', 'finishedsquarefeet13', 'poolsizesum', 'pooltypeid2', 'pooltypeid10']"
   ]
  },
  {
   "cell_type": "code",
   "execution_count": 20,
   "metadata": {},
   "outputs": [
    {
     "name": "stderr",
     "output_type": "stream",
     "text": [
      "C:\\Users\\ehuang\\Anaconda3\\lib\\site-packages\\pandas\\core\\frame.py:3697: SettingWithCopyWarning: \n",
      "A value is trying to be set on a copy of a slice from a DataFrame\n",
      "\n",
      "See the caveats in the documentation: http://pandas.pydata.org/pandas-docs/stable/indexing.html#indexing-view-versus-copy\n",
      "  errors=errors)\n"
     ]
    }
   ],
   "source": [
    "# split the dataset into train (60%), dev (20%), and test (20%)\n",
    "# Set a random seed (623) to keep our dataset consistent between runs\n",
    "# Only use data from July 2016\n",
    "\n",
    "df = shuffle(combined_df, random_state=623)\n",
    "if excl_cols is not None:\n",
    "    df.drop(labels = excl_cols, axis=1, inplace=True)\n",
    "\n",
    "df = df[(df['transactiondate'] >= '2016-07-01') & (df['transactiondate'] <= '2016-07-31')]\n",
    "\n",
    "i_logerror = df.columns.get_loc(\"logerror\")\n",
    "\n",
    "train_data, train_labels = df.iloc[:int(len(df)*0.6), np.r_[0:i_logerror, (i_logerror+1):len(df.columns)]], df.iloc[:int(len(df)*0.6),i_logerror:(i_logerror+1)].values\n",
    "df_train = df.iloc[:int(len(df)*0.6), :]\n",
    "dev_data, dev_labels = df.iloc[int(len(df)*0.6):int(len(df)*0.8), np.r_[0:i_logerror, (i_logerror+1):len(df.columns)]], df.iloc[int(len(df)*0.6):int(len(df)*0.8),i_logerror:(i_logerror+1)].values\n",
    "df_dev = df.iloc[int(len(df)*0.6):int(len(df)*0.8), :]\n",
    "test_data, test_labels = df.iloc[int(len(df)*0.8):, np.r_[0:i_logerror, (i_logerror+1):len(df.columns)]], df.iloc[int(len(df)*0.8):,i_logerror:(i_logerror+1)].values\n",
    "df_test = df.iloc[int(len(df)/2):, :]"
   ]
  },
  {
   "cell_type": "markdown",
   "metadata": {},
   "source": [
    "### Histograms of features in our train dataset"
   ]
  },
  {
   "cell_type": "code",
   "execution_count": 109,
   "metadata": {},
   "outputs": [
    {
     "data": {
      "image/png": "[encoded data removed]",
      "text/plain": [
       "<Figure size 576x360 with 1 Axes>"
      ]
     },
     "metadata": {
      "needs_background": "light"
     },
     "output_type": "display_data"
    }
   ],
   "source": [
    "# Plot bed/bath ratio vs logerror - any difference for outliers\n",
    "plt.figure(figsize=(8,5))\n",
    "plt.scatter(df_train.bedroomcnt/df_train.bathroomcnt,df_train.logerror, alpha=0.2)\n",
    "plt.xlabel('Beds/Baths')\n",
    "plt.ylabel('Logerror')\n",
    "plt.title('Logerrors vs Bed/Bath ratio')\n",
    "plt.show()"
   ]
  },
  {
   "cell_type": "code",
   "execution_count": 21,
   "metadata": {},
   "outputs": [
    {
     "data": {
      "image/png": "[encoded data removed]",
      "text/plain": [
       "<Figure size 576x360 with 2 Axes>"
      ]
     },
     "metadata": {
      "needs_background": "light"
     },
     "output_type": "display_data"
    }
   ],
   "source": [
    "# Plot beds and baths vs logerror - any difference for outliers\n",
    "plt.figure(figsize=(8,5))\n",
    "plt.scatter(df_train[np.abs(df_train.logerror)>=0.1].bedroomcnt,df_train[np.abs(df_train.logerror)>=0.1].bathroomcnt,c=df_train[np.abs(df_train.logerror)>=0.1].logerror, cmap=plt.get_cmap('seismic'))\n",
    "plt.xlabel('Bedrooms')\n",
    "plt.ylabel('Bathrooms')\n",
    "plt.title('Logerrors more than +-0.1 by Beds/Baths')\n",
    "plt.colorbar()\n",
    "plt.show()"
   ]
  },
  {
   "cell_type": "code",
   "execution_count": 111,
   "metadata": {},
   "outputs": [
    {
     "data": {
      "image/png": "[encoded data removed]",
      "text/plain": [
       "<Figure size 1008x432 with 2 Axes>"
      ]
     },
     "metadata": {
      "needs_background": "light"
     },
     "output_type": "display_data"
    }
   ],
   "source": [
    "# plot histograms of Logerrors\n",
    "fig, ax = plt.subplots(1,2, figsize=(14,6))\n",
    "\n",
    "ax.flatten()\n",
    "ax[0].hist(df_train.logerror,bins=40)\n",
    "ax[0].set_title(\"Logerror Histogram\")\n",
    "ax[1].hist(df_train.logerror[np.abs(df_train.logerror) >= 0.1],bins=40)\n",
    "ax[1].set_title(\"Logerror Histogram, excluding errors between +-0.1\")\n",
    "plt.show()"
   ]
  },
  {
   "cell_type": "code",
   "execution_count": null,
   "metadata": {},
   "outputs": [],
   "source": [
    "# Plot histograms of the columns of interest that aren't binomial or way too many categories\n",
    "fig, ax = plt.subplots(8,5, figsize=(15,24))\n",
    "ax = ax.flatten()\n",
    "i = 0\n",
    "for c in df_train.iloc[:,0:48].columns:\n",
    "    if c in ['decktypeid','hashottuborspa','poolcnt','pooltypeid10','pooltypeid2','pooltypeid7','propertyzoningdesc',\n",
    "             'propertycountylandusecode','regionidcity','regionidcounty','regionidneighborhood','fireplaceflag',\n",
    "             'censustractandblock','latitude','longitude']:\n",
    "        continue\n",
    "    ax[i].hist(df_train[c])\n",
    "    ax[i].set_xlabel(\"\")\n",
    "    ax[i].set_ylabel(\"\")\n",
    "    ax[i].set_title(c)\n",
    "    i+=1\n",
    "\n",
    "plt.delaxes(ax[39])\n",
    "plt.tight_layout()\n",
    "plt.show()"
   ]
  },
  {
   "cell_type": "markdown",
   "metadata": {},
   "source": [
    "## <font color=green> EH - Trying dimensionality reduction (PCA) on subsets of data </font>\n",
    "We experiment with using PCA to group similar data (e.g. pool variables into a single dimension) then use the reduced projections moving forward"
   ]
  },
  {
   "cell_type": "code",
   "execution_count": 29,
   "metadata": {},
   "outputs": [
    {
     "data": {
      "text/html": [
       "<div>\n",
       "<style scoped>\n",
       "    .dataframe tbody tr th:only-of-type {\n",
       "        vertical-align: middle;\n",
       "    }\n",
       "\n",
       "    .dataframe tbody tr th {\n",
       "        vertical-align: top;\n",
       "    }\n",
       "\n",
       "    .dataframe thead th {\n",
       "        text-align: right;\n",
       "    }\n",
       "</style>\n",
       "<table border=\"1\" class=\"dataframe\">\n",
       "  <thead>\n",
       "    <tr style=\"text-align: right;\">\n",
       "      <th></th>\n",
       "      <th>airconditioningtypeid</th>\n",
       "      <th>architecturalstyletypeid</th>\n",
       "      <th>bathroomcnt</th>\n",
       "      <th>bedroomcnt</th>\n",
       "      <th>buildingclasstypeid</th>\n",
       "      <th>buildingqualitytypeid</th>\n",
       "      <th>calculatedbathnbr</th>\n",
       "      <th>decktypeid</th>\n",
       "      <th>finishedfloor1squarefeet</th>\n",
       "      <th>calculatedfinishedsquarefeet</th>\n",
       "      <th>...</th>\n",
       "      <th>taxamount</th>\n",
       "      <th>taxdelinquencyflag</th>\n",
       "      <th>taxdelinquencyyear</th>\n",
       "      <th>censustractandblock</th>\n",
       "      <th>logerror</th>\n",
       "      <th>transactiondate</th>\n",
       "      <th>latlng</th>\n",
       "      <th>city</th>\n",
       "      <th>county</th>\n",
       "      <th>county_city</th>\n",
       "    </tr>\n",
       "    <tr>\n",
       "      <th>parcelid</th>\n",
       "      <th></th>\n",
       "      <th></th>\n",
       "      <th></th>\n",
       "      <th></th>\n",
       "      <th></th>\n",
       "      <th></th>\n",
       "      <th></th>\n",
       "      <th></th>\n",
       "      <th></th>\n",
       "      <th></th>\n",
       "      <th></th>\n",
       "      <th></th>\n",
       "      <th></th>\n",
       "      <th></th>\n",
       "      <th></th>\n",
       "      <th></th>\n",
       "      <th></th>\n",
       "      <th></th>\n",
       "      <th></th>\n",
       "      <th></th>\n",
       "      <th></th>\n",
       "    </tr>\n",
       "  </thead>\n",
       "  <tbody>\n",
       "    <tr>\n",
       "      <th>13888773</th>\n",
       "      <td>NaN</td>\n",
       "      <td>NaN</td>\n",
       "      <td>1.5</td>\n",
       "      <td>2.0</td>\n",
       "      <td>NaN</td>\n",
       "      <td>NaN</td>\n",
       "      <td>1.5</td>\n",
       "      <td>NaN</td>\n",
       "      <td>NaN</td>\n",
       "      <td>948.0</td>\n",
       "      <td>...</td>\n",
       "      <td>6274.64</td>\n",
       "      <td>0</td>\n",
       "      <td>NaN</td>\n",
       "      <td>6.059063e+13</td>\n",
       "      <td>-0.0715</td>\n",
       "      <td>2016-07-12</td>\n",
       "      <td>33.604554,-117.903887</td>\n",
       "      <td>Newport Beach</td>\n",
       "      <td>Orange County</td>\n",
       "      <td>(Orange County, Newport Beach)</td>\n",
       "    </tr>\n",
       "    <tr>\n",
       "      <th>14276329</th>\n",
       "      <td>NaN</td>\n",
       "      <td>NaN</td>\n",
       "      <td>3.5</td>\n",
       "      <td>4.0</td>\n",
       "      <td>NaN</td>\n",
       "      <td>NaN</td>\n",
       "      <td>3.5</td>\n",
       "      <td>NaN</td>\n",
       "      <td>NaN</td>\n",
       "      <td>2642.0</td>\n",
       "      <td>...</td>\n",
       "      <td>29461.54</td>\n",
       "      <td>0</td>\n",
       "      <td>NaN</td>\n",
       "      <td>6.059063e+13</td>\n",
       "      <td>0.0334</td>\n",
       "      <td>2016-07-18</td>\n",
       "      <td>33.609528,-117.91101</td>\n",
       "      <td>Newport Beach</td>\n",
       "      <td>Orange County</td>\n",
       "      <td>(Orange County, Newport Beach)</td>\n",
       "    </tr>\n",
       "    <tr>\n",
       "      <th>12819251</th>\n",
       "      <td>NaN</td>\n",
       "      <td>NaN</td>\n",
       "      <td>2.0</td>\n",
       "      <td>3.0</td>\n",
       "      <td>NaN</td>\n",
       "      <td>7.0</td>\n",
       "      <td>2.0</td>\n",
       "      <td>NaN</td>\n",
       "      <td>NaN</td>\n",
       "      <td>1196.0</td>\n",
       "      <td>...</td>\n",
       "      <td>4684.75</td>\n",
       "      <td>0</td>\n",
       "      <td>NaN</td>\n",
       "      <td>6.037409e+13</td>\n",
       "      <td>-0.0629</td>\n",
       "      <td>2016-07-07</td>\n",
       "      <td>34.013292,-117.974435</td>\n",
       "      <td>Hacienda Heights</td>\n",
       "      <td>Los Angeles County</td>\n",
       "      <td>(Los Angeles County, Hacienda Heights)</td>\n",
       "    </tr>\n",
       "    <tr>\n",
       "      <th>14379644</th>\n",
       "      <td>13.0</td>\n",
       "      <td>NaN</td>\n",
       "      <td>3.0</td>\n",
       "      <td>5.0</td>\n",
       "      <td>NaN</td>\n",
       "      <td>NaN</td>\n",
       "      <td>3.0</td>\n",
       "      <td>NaN</td>\n",
       "      <td>NaN</td>\n",
       "      <td>2584.0</td>\n",
       "      <td>...</td>\n",
       "      <td>2627.98</td>\n",
       "      <td>0</td>\n",
       "      <td>NaN</td>\n",
       "      <td>6.059032e+13</td>\n",
       "      <td>0.4001</td>\n",
       "      <td>2016-07-18</td>\n",
       "      <td>33.60817,-117.68117</td>\n",
       "      <td>Mission Viejo</td>\n",
       "      <td>Orange County</td>\n",
       "      <td>(Orange County, Mission Viejo)</td>\n",
       "    </tr>\n",
       "    <tr>\n",
       "      <th>14487409</th>\n",
       "      <td>NaN</td>\n",
       "      <td>NaN</td>\n",
       "      <td>2.5</td>\n",
       "      <td>3.0</td>\n",
       "      <td>NaN</td>\n",
       "      <td>NaN</td>\n",
       "      <td>2.5</td>\n",
       "      <td>NaN</td>\n",
       "      <td>NaN</td>\n",
       "      <td>2478.0</td>\n",
       "      <td>...</td>\n",
       "      <td>3911.26</td>\n",
       "      <td>0</td>\n",
       "      <td>NaN</td>\n",
       "      <td>6.059032e+13</td>\n",
       "      <td>0.0573</td>\n",
       "      <td>2016-07-19</td>\n",
       "      <td>33.619986,-117.651463</td>\n",
       "      <td>Mission Viejo</td>\n",
       "      <td>Orange County</td>\n",
       "      <td>(Orange County, Mission Viejo)</td>\n",
       "    </tr>\n",
       "  </tbody>\n",
       "</table>\n",
       "<p>5 rows × 55 columns</p>\n",
       "</div>"
      ],
      "text/plain": [
       "          airconditioningtypeid  architecturalstyletypeid  bathroomcnt  \\\n",
       "parcelid                                                                 \n",
       "13888773                    NaN                       NaN          1.5   \n",
       "14276329                    NaN                       NaN          3.5   \n",
       "12819251                    NaN                       NaN          2.0   \n",
       "14379644                   13.0                       NaN          3.0   \n",
       "14487409                    NaN                       NaN          2.5   \n",
       "\n",
       "          bedroomcnt  buildingclasstypeid  buildingqualitytypeid  \\\n",
       "parcelid                                                           \n",
       "13888773         2.0                  NaN                    NaN   \n",
       "14276329         4.0                  NaN                    NaN   \n",
       "12819251         3.0                  NaN                    7.0   \n",
       "14379644         5.0                  NaN                    NaN   \n",
       "14487409         3.0                  NaN                    NaN   \n",
       "\n",
       "          calculatedbathnbr  decktypeid  finishedfloor1squarefeet  \\\n",
       "parcelid                                                            \n",
       "13888773                1.5         NaN                       NaN   \n",
       "14276329                3.5         NaN                       NaN   \n",
       "12819251                2.0         NaN                       NaN   \n",
       "14379644                3.0         NaN                       NaN   \n",
       "14487409                2.5         NaN                       NaN   \n",
       "\n",
       "          calculatedfinishedsquarefeet  \\\n",
       "parcelid                                 \n",
       "13888773                         948.0   \n",
       "14276329                        2642.0   \n",
       "12819251                        1196.0   \n",
       "14379644                        2584.0   \n",
       "14487409                        2478.0   \n",
       "\n",
       "                           ...                    taxamount  \\\n",
       "parcelid                   ...                                \n",
       "13888773                   ...                      6274.64   \n",
       "14276329                   ...                     29461.54   \n",
       "12819251                   ...                      4684.75   \n",
       "14379644                   ...                      2627.98   \n",
       "14487409                   ...                      3911.26   \n",
       "\n",
       "          taxdelinquencyflag  taxdelinquencyyear  censustractandblock  \\\n",
       "parcelid                                                                \n",
       "13888773                   0                 NaN         6.059063e+13   \n",
       "14276329                   0                 NaN         6.059063e+13   \n",
       "12819251                   0                 NaN         6.037409e+13   \n",
       "14379644                   0                 NaN         6.059032e+13   \n",
       "14487409                   0                 NaN         6.059032e+13   \n",
       "\n",
       "          logerror  transactiondate                 latlng              city  \\\n",
       "parcelid                                                                       \n",
       "13888773   -0.0715       2016-07-12  33.604554,-117.903887     Newport Beach   \n",
       "14276329    0.0334       2016-07-18   33.609528,-117.91101     Newport Beach   \n",
       "12819251   -0.0629       2016-07-07  34.013292,-117.974435  Hacienda Heights   \n",
       "14379644    0.4001       2016-07-18    33.60817,-117.68117     Mission Viejo   \n",
       "14487409    0.0573       2016-07-19  33.619986,-117.651463     Mission Viejo   \n",
       "\n",
       "                      county                             county_city  \n",
       "parcelid                                                              \n",
       "13888773       Orange County          (Orange County, Newport Beach)  \n",
       "14276329       Orange County          (Orange County, Newport Beach)  \n",
       "12819251  Los Angeles County  (Los Angeles County, Hacienda Heights)  \n",
       "14379644       Orange County          (Orange County, Mission Viejo)  \n",
       "14487409       Orange County          (Orange County, Mission Viejo)  \n",
       "\n",
       "[5 rows x 55 columns]"
      ]
     },
     "execution_count": 29,
     "metadata": {},
     "output_type": "execute_result"
    }
   ],
   "source": [
    "df_train.head()"
   ]
  },
  {
   "cell_type": "code",
   "execution_count": 67,
   "metadata": {},
   "outputs": [
    {
     "data": {
      "text/plain": [
       "(5953, 55)"
      ]
     },
     "execution_count": 67,
     "metadata": {},
     "output_type": "execute_result"
    }
   ],
   "source": [
    "# double check data types and shape\n",
    "# df_train.dtypes\n",
    "# df_train.shape"
   ]
  },
  {
   "cell_type": "code",
   "execution_count": 80,
   "metadata": {},
   "outputs": [],
   "source": [
    "# look at different groups of similar variables to understand if possible to combine\n",
    "sqft = df_train[[\"finishedfloor1squarefeet\", \"calculatedfinishedsquarefeet\",  \"finishedsquarefeet12\", \"finishedsquarefeet15\",\n",
    "                 \"finishedsquarefeet50\", \"finishedsquarefeet6\"]]\n",
    "\n",
    "garage = df_train[[\"garagecarcnt\", \"garagetotalsqft\"]]\n",
    "\n",
    "pool = df_train[[\"poolcnt\", \"pooltypeid7\"]]\n",
    "\n",
    "values = df_train[[\"structuretaxvaluedollarcnt\", \"taxvaluedollarcnt\", \"landtaxvaluedollarcnt\", \"taxamount\"]]\n",
    "\n",
    "region = df_train[[\"regionidcounty\", \"regionidcity\", \"regionidzip\", \"regionidneighborhood\"]]\n"
   ]
  },
  {
   "cell_type": "code",
   "execution_count": 81,
   "metadata": {},
   "outputs": [],
   "source": [
    "# replace NaN values with the mean of each column\n",
    "sqft = sqft.fillna(sqft.mean())\n",
    "garage = garage.fillna(garage.mean())\n",
    "pool = pool.fillna(pool.mean())\n",
    "values = values.fillna(values.mean())\n",
    "region = region.fillna(region.mean())"
   ]
  },
  {
   "cell_type": "code",
   "execution_count": 64,
   "metadata": {},
   "outputs": [],
   "source": [
    "# project grouped data into 1 dimension\n",
    "sqft_projected = PCA(n_components = 1).fit_transform(sqft)\n",
    "garage_projected = PCA(n_components = 1).fit_transform(garage)\n",
    "values_projected = PCA(n_components = 1).fit_transform(values)\n",
    "region_projected = PCA(n_components = 1).fit_transform(region)\n",
    "\n",
    "# probably can't project pool data because the replacement value is all 1, so thre is no point of comparison\n",
    "pool_projected = PCA(n_components = 1).fit_transform(pool)\n"
   ]
  },
  {
   "cell_type": "markdown",
   "metadata": {},
   "source": [
    "## t-SNE Clustering\n",
    "We perform t-SNE clustering to identify if there is a visible grouping of higher `logerror`s. While t-SNE is not great for hard analysis, it is a good visualization utility and would allow us to identify if there is a clear grouping of variables with larger logerrors"
   ]
  },
  {
   "cell_type": "code",
   "execution_count": null,
   "metadata": {},
   "outputs": [],
   "source": [
    "df_train.columns"
   ]
  },
  {
   "cell_type": "code",
   "execution_count": 62,
   "metadata": {},
   "outputs": [
    {
     "name": "stdout",
     "output_type": "stream",
     "text": [
      "[t-SNE] Computing 91 nearest neighbors...\n",
      "[t-SNE] Indexed 5441 samples in 0.010s...\n",
      "[t-SNE] Computed neighbors for 5441 samples in 0.862s...\n",
      "[t-SNE] Computed conditional probabilities for sample 1000 / 5441\n",
      "[t-SNE] Computed conditional probabilities for sample 2000 / 5441\n",
      "[t-SNE] Computed conditional probabilities for sample 3000 / 5441\n",
      "[t-SNE] Computed conditional probabilities for sample 4000 / 5441\n",
      "[t-SNE] Computed conditional probabilities for sample 5000 / 5441\n",
      "[t-SNE] Computed conditional probabilities for sample 5441 / 5441\n",
      "[t-SNE] Mean sigma: 0.487406\n",
      "[t-SNE] KL divergence after 250 iterations with early exaggeration: 67.485931\n",
      "[t-SNE] KL divergence after 1000 iterations: 0.844083\n"
     ]
    }
   ],
   "source": [
    "# remove categorical variables for now\n",
    "# AB - removed censustractandblock, rawcensustractandblock, and binary features (hashottuborspa, fireplaceflag, taxdelinquincyflag)\n",
    "tsne_train_columns = ['basementsqft',\n",
    "       'bathroomcnt', 'bedroomcnt', 'calculatedbathnbr',\n",
    "       'finishedfloor1squarefeet', 'calculatedfinishedsquarefeet',\n",
    "       'finishedsquarefeet12', 'finishedsquarefeet13', 'finishedsquarefeet15',\n",
    "       'finishedsquarefeet50', 'finishedsquarefeet6', 'fireplacecnt',\n",
    "       'fullbathcnt', 'garagecarcnt', 'garagetotalsqft',\n",
    "       'lotsizesquarefeet', 'poolcnt', 'poolsizesum','roomcnt',\n",
    "       'threequarterbathnbr', 'unitcnt',\n",
    "       'yardbuildingsqft17', 'yearbuilt', \n",
    "       'structuretaxvaluedollarcnt', 'taxvaluedollarcnt', 'assessmentyear',\n",
    "       'landtaxvaluedollarcnt', 'taxamount', \n",
    "       'taxdelinquencyyear', 'logerror',\n",
    "       'transactiondate']\n",
    "tsne_train_df = df_train[tsne_train_columns].copy()\n",
    "\n",
    "tsne_train_df['transactiondate'] = tsne_train_df['transactiondate'].astype(np.int64)\n",
    "\n",
    "drop_columns = []\n",
    "for column in tsne_train_df.columns:\n",
    "    if (~tsne_train_df[column].isna()).sum() > 5000:\n",
    "        # Normalize all features here\n",
    "        if column != 'logerror':\n",
    "            tsne_train_df[column] = (tsne_train_df[column] - tsne_train_df[column].mean()) / tsne_train_df[column].std()\n",
    "        continue\n",
    "    \n",
    "    drop_columns.append(column)\n",
    "tsne_train_df.drop(drop_columns, axis='columns', inplace=True)\n",
    "\n",
    "\n",
    "#tsne_train_df['transactiondate'] = (tsne_train_df['transactiondate'] - tsne_train_df['transactiondate'].mean()) / tsne_train_df['transactiondate'].std()\n",
    "#tsne_train_df['assessmentyear'] = (tsne_train_df['assessmentyear'] - tsne_train_df['assessmentyear'].mean()) / tsne_train_df['assessmentyear'].std()\n",
    "tsne_train_df.dropna(axis='rows', inplace=True)\n",
    "\n",
    "tsna_train_np = tsne_train_df.loc[:,tsne_train_df.columns != 'logerror']\n",
    "### WARNING!!! THIS TAKES A WHILE!!!\n",
    "tsne_results = TSNE(n_components=2, verbose=1).fit_transform(tsna_train_np)"
   ]
  },
  {
   "cell_type": "code",
   "execution_count": null,
   "metadata": {},
   "outputs": [],
   "source": [
    "plt.figure(figsize=(16,10))\n",
    "plt.scatter(tsne_results[:,0], tsne_results[:,1], alpha = .8, c = np.abs(tsne_train_df['logerror']), cmap = 'inferno')\n",
    "cbar = plt.colorbar()"
   ]
  },
  {
   "cell_type": "markdown",
   "metadata": {},
   "source": [
    "As we saw in the earlier `logerror` distribution, a very large portion of the logerrors are extremely close to 0, making the colormapping difficult to understand. Let's observe the values both in and outside of these limits"
   ]
  },
  {
   "cell_type": "code",
   "execution_count": null,
   "metadata": {},
   "outputs": [],
   "source": [
    "# filter out high logerrors\n",
    "mask = np.abs(tsne_train_df['logerror']) < 0.1\n",
    "tsne_train_df_sub = tsne_train_df[mask]\n",
    "tsne_results_sub = tsne_results[mask]\n",
    "\n",
    "plt.figure(figsize=(16,10))\n",
    "plt.scatter(tsne_results_sub[:,0], tsne_results_sub[:,1], alpha = .8, c = np.abs(tsne_train_df_sub['logerror']), cmap = 'inferno')\n",
    "cbar = plt.colorbar()"
   ]
  },
  {
   "cell_type": "code",
   "execution_count": null,
   "metadata": {},
   "outputs": [],
   "source": [
    "# filter out low logerrors\n",
    "mask = np.abs(tsne_train_df['logerror']) > 0.1\n",
    "tsne_train_df_sub = tsne_train_df[mask]\n",
    "tsne_results_sub = tsne_results[mask]\n",
    "\n",
    "plt.figure(figsize=(16,10))\n",
    "plt.scatter(tsne_results_sub[:,0], tsne_results_sub[:,1], alpha = .8, c = np.abs(tsne_train_df_sub['logerror']), cmap = 'inferno')\n",
    "cbar = plt.colorbar()"
   ]
  },
  {
   "cell_type": "markdown",
   "metadata": {},
   "source": [
    "Unfortunately it doesn't look like there is a very large tendency for clusters to have similar logerror values, which means that this task will be pretty difficult. One very interesting thing to note is the linearity in the clusters that were created. Typically these clusters are both long and fat, but in this distribution it appears to be very tight and skinny. I'm not sure what this indicates."
   ]
  },
  {
   "cell_type": "code",
   "execution_count": null,
   "metadata": {},
   "outputs": [],
   "source": [
    "# AB  - crazy thought - what if we take the log(logerror) to better visualize?\n",
    "#mask = np.abs(tsne_train_df['logerror']) < 0.1\n",
    "tsne_train_df_sub = tsne_train_df #[mask]\n",
    "tsne_results_sub = tsne_results #[mask]\n",
    "\n",
    "plt.figure(figsize=(16,10))\n",
    "plt.scatter(tsne_results_sub[:,0], tsne_results_sub[:,1], alpha = .8, c = -np.log(np.abs(tsne_train_df_sub['logerror'])), cmap = 'inferno')\n",
    "cbar = plt.colorbar()"
   ]
  },
  {
   "cell_type": "code",
   "execution_count": null,
   "metadata": {},
   "outputs": [],
   "source": []
  },
  {
   "cell_type": "code",
   "execution_count": 63,
   "metadata": {},
   "outputs": [
    {
     "ename": "ValueError",
     "evalue": "could not convert string to float: '010C'",
     "output_type": "error",
     "traceback": [
      "\u001b[0;31m---------------------------------------------------------------------------\u001b[0m",
      "\u001b[0;31mValueError\u001b[0m                                Traceback (most recent call last)",
      "\u001b[0;32m<ipython-input-63-7c62ec02dd5c>\u001b[0m in \u001b[0;36m<module>\u001b[0;34m()\u001b[0m\n\u001b[1;32m      1\u001b[0m \u001b[0;32mimport\u001b[0m \u001b[0mgauntlet\u001b[0m\u001b[0;34m\u001b[0m\u001b[0;34m\u001b[0m\u001b[0m\n\u001b[1;32m      2\u001b[0m \u001b[0;34m\u001b[0m\u001b[0m\n\u001b[0;32m----> 3\u001b[0;31m \u001b[0mgauntlet\u001b[0m\u001b[0;34m.\u001b[0m\u001b[0mtest_models\u001b[0m\u001b[0;34m(\u001b[0m\u001b[0mtrain_data\u001b[0m\u001b[0;34m,\u001b[0m \u001b[0mtrain_labels\u001b[0m\u001b[0;34m)\u001b[0m\u001b[0;34m\u001b[0m\u001b[0;34m\u001b[0m\u001b[0m\n\u001b[0m\u001b[1;32m      4\u001b[0m \u001b[0mgauntlet\u001b[0m\u001b[0;34m.\u001b[0m\u001b[0mviz_model\u001b[0m\u001b[0;34m(\u001b[0m\u001b[0mMLPRegressor\u001b[0m\u001b[0;34m,\u001b[0m \u001b[0mtrain_data\u001b[0m\u001b[0;34m,\u001b[0m \u001b[0mtrain_labels\u001b[0m\u001b[0;34m)\u001b[0m\u001b[0;34m\u001b[0m\u001b[0;34m\u001b[0m\u001b[0m\n",
      "\u001b[0;32m/Users/austindoolittle/Documents/GradSchool/Summer2019/w207/git_repos/W207-Final-Project/gauntlet.py\u001b[0m in \u001b[0;36mtest_models\u001b[0;34m(train_data, train_labels, models, cv)\u001b[0m\n\u001b[1;32m     59\u001b[0m \u001b[0;34m\u001b[0m\u001b[0m\n\u001b[1;32m     60\u001b[0m     \u001b[0;32mfor\u001b[0m \u001b[0mname\u001b[0m\u001b[0;34m,\u001b[0m \u001b[0mmodel_fn\u001b[0m \u001b[0;32min\u001b[0m \u001b[0mmodels\u001b[0m\u001b[0;34m.\u001b[0m\u001b[0mitems\u001b[0m\u001b[0;34m(\u001b[0m\u001b[0;34m)\u001b[0m\u001b[0;34m:\u001b[0m\u001b[0;34m\u001b[0m\u001b[0;34m\u001b[0m\u001b[0m\n\u001b[0;32m---> 61\u001b[0;31m         \u001b[0merr_avg\u001b[0m\u001b[0;34m,\u001b[0m \u001b[0merr_std\u001b[0m \u001b[0;34m=\u001b[0m \u001b[0m_cross_validate\u001b[0m\u001b[0;34m(\u001b[0m\u001b[0mmodel_fn\u001b[0m\u001b[0;34m,\u001b[0m \u001b[0mtrain_data\u001b[0m\u001b[0;34m,\u001b[0m \u001b[0mtrain_labels\u001b[0m\u001b[0;34m)\u001b[0m\u001b[0;34m\u001b[0m\u001b[0;34m\u001b[0m\u001b[0m\n\u001b[0m\u001b[1;32m     62\u001b[0m         \u001b[0mprint\u001b[0m\u001b[0;34m(\u001b[0m\u001b[0;34m'Model: %s'\u001b[0m\u001b[0;34m%\u001b[0m\u001b[0mmodel_fn\u001b[0m\u001b[0;34m.\u001b[0m\u001b[0m__name__\u001b[0m\u001b[0;34m)\u001b[0m\u001b[0;34m\u001b[0m\u001b[0;34m\u001b[0m\u001b[0m\n\u001b[1;32m     63\u001b[0m         \u001b[0mprint\u001b[0m\u001b[0;34m(\u001b[0m\u001b[0;34m'\\tAverage MAE: %f, MAE Standard Dev: %f\\n'\u001b[0m\u001b[0;34m%\u001b[0m\u001b[0;34m(\u001b[0m\u001b[0merr_avg\u001b[0m\u001b[0;34m,\u001b[0m \u001b[0merr_std\u001b[0m\u001b[0;34m)\u001b[0m\u001b[0;34m)\u001b[0m\u001b[0;34m\u001b[0m\u001b[0;34m\u001b[0m\u001b[0m\n",
      "\u001b[0;32m/Users/austindoolittle/Documents/GradSchool/Summer2019/w207/git_repos/W207-Final-Project/gauntlet.py\u001b[0m in \u001b[0;36m_cross_validate\u001b[0;34m(model_cls, data, labels, cv, **kwargs)\u001b[0m\n\u001b[1;32m     35\u001b[0m         \u001b[0mtest_labels\u001b[0m \u001b[0;34m=\u001b[0m \u001b[0mlabels\u001b[0m\u001b[0;34m[\u001b[0m\u001b[0mnp\u001b[0m\u001b[0;34m.\u001b[0m\u001b[0mlogical_not\u001b[0m\u001b[0;34m(\u001b[0m\u001b[0mmask\u001b[0m\u001b[0;34m)\u001b[0m\u001b[0;34m]\u001b[0m\u001b[0;34m\u001b[0m\u001b[0;34m\u001b[0m\u001b[0m\n\u001b[1;32m     36\u001b[0m \u001b[0;34m\u001b[0m\u001b[0m\n\u001b[0;32m---> 37\u001b[0;31m         \u001b[0mmodel\u001b[0m \u001b[0;34m=\u001b[0m \u001b[0mmodel_cls\u001b[0m\u001b[0;34m(\u001b[0m\u001b[0;34m**\u001b[0m\u001b[0mkwargs\u001b[0m\u001b[0;34m)\u001b[0m\u001b[0;34m.\u001b[0m\u001b[0mfit\u001b[0m\u001b[0;34m(\u001b[0m\u001b[0mtrain_data\u001b[0m\u001b[0;34m,\u001b[0m \u001b[0mtrain_labels\u001b[0m\u001b[0;34m)\u001b[0m\u001b[0;34m\u001b[0m\u001b[0;34m\u001b[0m\u001b[0m\n\u001b[0m\u001b[1;32m     38\u001b[0m         \u001b[0mpred_labels\u001b[0m \u001b[0;34m=\u001b[0m \u001b[0mmodel\u001b[0m\u001b[0;34m.\u001b[0m\u001b[0mpredict\u001b[0m\u001b[0;34m(\u001b[0m\u001b[0mtest_data\u001b[0m\u001b[0;34m)\u001b[0m\u001b[0;34m\u001b[0m\u001b[0;34m\u001b[0m\u001b[0m\n\u001b[1;32m     39\u001b[0m         \u001b[0merr\u001b[0m \u001b[0;34m=\u001b[0m \u001b[0mmae\u001b[0m\u001b[0;34m(\u001b[0m\u001b[0mtest_labels\u001b[0m\u001b[0;34m,\u001b[0m \u001b[0mpred_labels\u001b[0m\u001b[0;34m)\u001b[0m\u001b[0;34m\u001b[0m\u001b[0;34m\u001b[0m\u001b[0m\n",
      "\u001b[0;32m/Users/austindoolittle/miniconda3/envs/jupyter3/lib/python3.7/site-packages/sklearn/neural_network/multilayer_perceptron.py\u001b[0m in \u001b[0;36mfit\u001b[0;34m(self, X, y)\u001b[0m\n\u001b[1;32m    616\u001b[0m         \u001b[0mself\u001b[0m \u001b[0;34m:\u001b[0m \u001b[0mreturns\u001b[0m \u001b[0ma\u001b[0m \u001b[0mtrained\u001b[0m \u001b[0mMLP\u001b[0m \u001b[0mmodel\u001b[0m\u001b[0;34m.\u001b[0m\u001b[0;34m\u001b[0m\u001b[0;34m\u001b[0m\u001b[0m\n\u001b[1;32m    617\u001b[0m         \"\"\"\n\u001b[0;32m--> 618\u001b[0;31m         \u001b[0;32mreturn\u001b[0m \u001b[0mself\u001b[0m\u001b[0;34m.\u001b[0m\u001b[0m_fit\u001b[0m\u001b[0;34m(\u001b[0m\u001b[0mX\u001b[0m\u001b[0;34m,\u001b[0m \u001b[0my\u001b[0m\u001b[0;34m,\u001b[0m \u001b[0mincremental\u001b[0m\u001b[0;34m=\u001b[0m\u001b[0;32mFalse\u001b[0m\u001b[0;34m)\u001b[0m\u001b[0;34m\u001b[0m\u001b[0;34m\u001b[0m\u001b[0m\n\u001b[0m\u001b[1;32m    619\u001b[0m \u001b[0;34m\u001b[0m\u001b[0m\n\u001b[1;32m    620\u001b[0m     \u001b[0;34m@\u001b[0m\u001b[0mproperty\u001b[0m\u001b[0;34m\u001b[0m\u001b[0;34m\u001b[0m\u001b[0m\n",
      "\u001b[0;32m/Users/austindoolittle/miniconda3/envs/jupyter3/lib/python3.7/site-packages/sklearn/neural_network/multilayer_perceptron.py\u001b[0m in \u001b[0;36m_fit\u001b[0;34m(self, X, y, incremental)\u001b[0m\n\u001b[1;32m    322\u001b[0m                              hidden_layer_sizes)\n\u001b[1;32m    323\u001b[0m \u001b[0;34m\u001b[0m\u001b[0m\n\u001b[0;32m--> 324\u001b[0;31m         \u001b[0mX\u001b[0m\u001b[0;34m,\u001b[0m \u001b[0my\u001b[0m \u001b[0;34m=\u001b[0m \u001b[0mself\u001b[0m\u001b[0;34m.\u001b[0m\u001b[0m_validate_input\u001b[0m\u001b[0;34m(\u001b[0m\u001b[0mX\u001b[0m\u001b[0;34m,\u001b[0m \u001b[0my\u001b[0m\u001b[0;34m,\u001b[0m \u001b[0mincremental\u001b[0m\u001b[0;34m)\u001b[0m\u001b[0;34m\u001b[0m\u001b[0;34m\u001b[0m\u001b[0m\n\u001b[0m\u001b[1;32m    325\u001b[0m         \u001b[0mn_samples\u001b[0m\u001b[0;34m,\u001b[0m \u001b[0mn_features\u001b[0m \u001b[0;34m=\u001b[0m \u001b[0mX\u001b[0m\u001b[0;34m.\u001b[0m\u001b[0mshape\u001b[0m\u001b[0;34m\u001b[0m\u001b[0;34m\u001b[0m\u001b[0m\n\u001b[1;32m    326\u001b[0m \u001b[0;34m\u001b[0m\u001b[0m\n",
      "\u001b[0;32m/Users/austindoolittle/miniconda3/envs/jupyter3/lib/python3.7/site-packages/sklearn/neural_network/multilayer_perceptron.py\u001b[0m in \u001b[0;36m_validate_input\u001b[0;34m(self, X, y, incremental)\u001b[0m\n\u001b[1;32m   1312\u001b[0m     \u001b[0;32mdef\u001b[0m \u001b[0m_validate_input\u001b[0m\u001b[0;34m(\u001b[0m\u001b[0mself\u001b[0m\u001b[0;34m,\u001b[0m \u001b[0mX\u001b[0m\u001b[0;34m,\u001b[0m \u001b[0my\u001b[0m\u001b[0;34m,\u001b[0m \u001b[0mincremental\u001b[0m\u001b[0;34m)\u001b[0m\u001b[0;34m:\u001b[0m\u001b[0;34m\u001b[0m\u001b[0;34m\u001b[0m\u001b[0m\n\u001b[1;32m   1313\u001b[0m         X, y = check_X_y(X, y, accept_sparse=['csr', 'csc', 'coo'],\n\u001b[0;32m-> 1314\u001b[0;31m                          multi_output=True, y_numeric=True)\n\u001b[0m\u001b[1;32m   1315\u001b[0m         \u001b[0;32mif\u001b[0m \u001b[0my\u001b[0m\u001b[0;34m.\u001b[0m\u001b[0mndim\u001b[0m \u001b[0;34m==\u001b[0m \u001b[0;36m2\u001b[0m \u001b[0;32mand\u001b[0m \u001b[0my\u001b[0m\u001b[0;34m.\u001b[0m\u001b[0mshape\u001b[0m\u001b[0;34m[\u001b[0m\u001b[0;36m1\u001b[0m\u001b[0;34m]\u001b[0m \u001b[0;34m==\u001b[0m \u001b[0;36m1\u001b[0m\u001b[0;34m:\u001b[0m\u001b[0;34m\u001b[0m\u001b[0;34m\u001b[0m\u001b[0m\n\u001b[1;32m   1316\u001b[0m             \u001b[0my\u001b[0m \u001b[0;34m=\u001b[0m \u001b[0mcolumn_or_1d\u001b[0m\u001b[0;34m(\u001b[0m\u001b[0my\u001b[0m\u001b[0;34m,\u001b[0m \u001b[0mwarn\u001b[0m\u001b[0;34m=\u001b[0m\u001b[0;32mTrue\u001b[0m\u001b[0;34m)\u001b[0m\u001b[0;34m\u001b[0m\u001b[0;34m\u001b[0m\u001b[0m\n",
      "\u001b[0;32m/Users/austindoolittle/miniconda3/envs/jupyter3/lib/python3.7/site-packages/sklearn/utils/validation.py\u001b[0m in \u001b[0;36mcheck_X_y\u001b[0;34m(X, y, accept_sparse, accept_large_sparse, dtype, order, copy, force_all_finite, ensure_2d, allow_nd, multi_output, ensure_min_samples, ensure_min_features, y_numeric, warn_on_dtype, estimator)\u001b[0m\n\u001b[1;32m    754\u001b[0m                     \u001b[0mensure_min_features\u001b[0m\u001b[0;34m=\u001b[0m\u001b[0mensure_min_features\u001b[0m\u001b[0;34m,\u001b[0m\u001b[0;34m\u001b[0m\u001b[0;34m\u001b[0m\u001b[0m\n\u001b[1;32m    755\u001b[0m                     \u001b[0mwarn_on_dtype\u001b[0m\u001b[0;34m=\u001b[0m\u001b[0mwarn_on_dtype\u001b[0m\u001b[0;34m,\u001b[0m\u001b[0;34m\u001b[0m\u001b[0;34m\u001b[0m\u001b[0m\n\u001b[0;32m--> 756\u001b[0;31m                     estimator=estimator)\n\u001b[0m\u001b[1;32m    757\u001b[0m     \u001b[0;32mif\u001b[0m \u001b[0mmulti_output\u001b[0m\u001b[0;34m:\u001b[0m\u001b[0;34m\u001b[0m\u001b[0;34m\u001b[0m\u001b[0m\n\u001b[1;32m    758\u001b[0m         y = check_array(y, 'csr', force_all_finite=True, ensure_2d=False,\n",
      "\u001b[0;32m/Users/austindoolittle/miniconda3/envs/jupyter3/lib/python3.7/site-packages/sklearn/utils/validation.py\u001b[0m in \u001b[0;36mcheck_array\u001b[0;34m(array, accept_sparse, accept_large_sparse, dtype, order, copy, force_all_finite, ensure_2d, allow_nd, ensure_min_samples, ensure_min_features, warn_on_dtype, estimator)\u001b[0m\n\u001b[1;32m    565\u001b[0m         \u001b[0;31m# make sure we actually converted to numeric:\u001b[0m\u001b[0;34m\u001b[0m\u001b[0;34m\u001b[0m\u001b[0;34m\u001b[0m\u001b[0m\n\u001b[1;32m    566\u001b[0m         \u001b[0;32mif\u001b[0m \u001b[0mdtype_numeric\u001b[0m \u001b[0;32mand\u001b[0m \u001b[0marray\u001b[0m\u001b[0;34m.\u001b[0m\u001b[0mdtype\u001b[0m\u001b[0;34m.\u001b[0m\u001b[0mkind\u001b[0m \u001b[0;34m==\u001b[0m \u001b[0;34m\"O\"\u001b[0m\u001b[0;34m:\u001b[0m\u001b[0;34m\u001b[0m\u001b[0;34m\u001b[0m\u001b[0m\n\u001b[0;32m--> 567\u001b[0;31m             \u001b[0marray\u001b[0m \u001b[0;34m=\u001b[0m \u001b[0marray\u001b[0m\u001b[0;34m.\u001b[0m\u001b[0mastype\u001b[0m\u001b[0;34m(\u001b[0m\u001b[0mnp\u001b[0m\u001b[0;34m.\u001b[0m\u001b[0mfloat64\u001b[0m\u001b[0;34m)\u001b[0m\u001b[0;34m\u001b[0m\u001b[0;34m\u001b[0m\u001b[0m\n\u001b[0m\u001b[1;32m    568\u001b[0m         \u001b[0;32mif\u001b[0m \u001b[0;32mnot\u001b[0m \u001b[0mallow_nd\u001b[0m \u001b[0;32mand\u001b[0m \u001b[0marray\u001b[0m\u001b[0;34m.\u001b[0m\u001b[0mndim\u001b[0m \u001b[0;34m>=\u001b[0m \u001b[0;36m3\u001b[0m\u001b[0;34m:\u001b[0m\u001b[0;34m\u001b[0m\u001b[0;34m\u001b[0m\u001b[0m\n\u001b[1;32m    569\u001b[0m             raise ValueError(\"Found array with dim %d. %s expected <= 2.\"\n",
      "\u001b[0;31mValueError\u001b[0m: could not convert string to float: '010C'"
     ]
    }
   ],
   "source": [
    "import gauntlet\n",
    "\n",
    "gauntlet.test_models(tsne_train_df, train_labels)\n",
    "gauntlet.viz_model(MLPRegressor, train_data, train_labels)"
   ]
  }
 ],
 "metadata": {
  "kernelspec": {
   "display_name": "Python 3",
   "language": "python",
   "name": "python3"
  },
  "language_info": {
   "codemirror_mode": {
    "name": "ipython",
    "version": 3
   },
   "file_extension": ".py",
   "mimetype": "text/x-python",
   "name": "python",
   "nbconvert_exporter": "python",
   "pygments_lexer": "ipython3",
   "version": "3.7.1"
  }
 },
 "nbformat": 4,
 "nbformat_minor": 4
}
